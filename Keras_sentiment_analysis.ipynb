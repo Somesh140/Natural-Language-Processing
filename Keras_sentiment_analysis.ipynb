{
  "nbformat": 4,
  "nbformat_minor": 0,
  "metadata": {
    "colab": {
      "provenance": [],
      "gpuType": "T4",
      "authorship_tag": "ABX9TyNKb3O5o8HFP0DGJyT0mJEc",
      "include_colab_link": true
    },
    "kernelspec": {
      "name": "python3",
      "display_name": "Python 3"
    },
    "language_info": {
      "name": "python"
    },
    "accelerator": "GPU",
    "gpuClass": "standard"
  },
  "cells": [
    {
      "cell_type": "markdown",
      "metadata": {
        "id": "view-in-github",
        "colab_type": "text"
      },
      "source": [
        "<a href=\"https://colab.research.google.com/github/Somesh140/NLP_sentiment_analysis/blob/main/Keras_sentiment_analysis.ipynb\" target=\"_parent\"><img src=\"https://colab.research.google.com/assets/colab-badge.svg\" alt=\"Open In Colab\"/></a>"
      ]
    },
    {
      "cell_type": "markdown",
      "source": [
        "Sentiment Analysis on IMDB dataset"
      ],
      "metadata": {
        "id": "b2FAGsOQNnTA"
      }
    },
    {
      "cell_type": "code",
      "execution_count": 9,
      "metadata": {
        "id": "0qLlaa0ONgiY"
      },
      "outputs": [],
      "source": [
        "from keras.datasets import imdb\n",
        "from keras import Sequential\n",
        "from keras.layers import Dense, SimpleRNN, Flatten"
      ]
    },
    {
      "cell_type": "code",
      "source": [
        "(X_train,y_train),(X_test,y_test)=imdb.load_data()"
      ],
      "metadata": {
        "colab": {
          "base_uri": "https://localhost:8080/"
        },
        "id": "xXb61wjkN64q",
        "outputId": "6b4a0f8c-03c8-4649-9445-549b55702482"
      },
      "execution_count": 3,
      "outputs": [
        {
          "output_type": "stream",
          "name": "stdout",
          "text": [
            "Downloading data from https://storage.googleapis.com/tensorflow/tf-keras-datasets/imdb.npz\n",
            "17464789/17464789 [==============================] - 1s 0us/step\n"
          ]
        }
      ]
    },
    {
      "cell_type": "code",
      "source": [
        "X_train.shape"
      ],
      "metadata": {
        "colab": {
          "base_uri": "https://localhost:8080/"
        },
        "id": "NWdN652ROH33",
        "outputId": "05897130-fe0f-4863-96ef-4442b3394f3f"
      },
      "execution_count": 4,
      "outputs": [
        {
          "output_type": "execute_result",
          "data": {
            "text/plain": [
              "(25000,)"
            ]
          },
          "metadata": {},
          "execution_count": 4
        }
      ]
    },
    {
      "cell_type": "code",
      "source": [
        "X_test.shape"
      ],
      "metadata": {
        "colab": {
          "base_uri": "https://localhost:8080/"
        },
        "id": "ksoZbK4tOLxp",
        "outputId": "eb84a0fb-1455-4653-a285-9037685f94a2"
      },
      "execution_count": 5,
      "outputs": [
        {
          "output_type": "execute_result",
          "data": {
            "text/plain": [
              "(25000,)"
            ]
          },
          "metadata": {},
          "execution_count": 5
        }
      ]
    },
    {
      "cell_type": "code",
      "source": [
        "y_train"
      ],
      "metadata": {
        "colab": {
          "base_uri": "https://localhost:8080/"
        },
        "id": "rklIt8m5OWG2",
        "outputId": "7a25cc35-91ab-4976-8153-a64756082124"
      },
      "execution_count": 6,
      "outputs": [
        {
          "output_type": "execute_result",
          "data": {
            "text/plain": [
              "array([1, 0, 0, ..., 0, 1, 0])"
            ]
          },
          "metadata": {},
          "execution_count": 6
        }
      ]
    },
    {
      "cell_type": "code",
      "source": [
        "print(len(X_train[2]))\n",
        "print(len(X_train[3]))"
      ],
      "metadata": {
        "colab": {
          "base_uri": "https://localhost:8080/"
        },
        "id": "fxHxkvYnOdBG",
        "outputId": "80f74f6a-3e5e-488d-8e39-fe1e2f426d25"
      },
      "execution_count": 7,
      "outputs": [
        {
          "output_type": "stream",
          "name": "stdout",
          "text": [
            "141\n",
            "550\n"
          ]
        }
      ]
    },
    {
      "cell_type": "code",
      "source": [
        "from keras.utils.data_utils import pad_sequences\n",
        "#length is not same hence need to add padding\n",
        "X_train= pad_sequences(X_train,padding='post',maxlen=50)\n",
        "\n",
        "X_test= pad_sequences(X_test,padding='post',maxlen=50)"
      ],
      "metadata": {
        "id": "_bHZ2peYPyDR"
      },
      "execution_count": 8,
      "outputs": []
    },
    {
      "cell_type": "code",
      "source": [
        "X_train.shape"
      ],
      "metadata": {
        "colab": {
          "base_uri": "https://localhost:8080/"
        },
        "id": "TJqeIrPVQMnd",
        "outputId": "6a4d872e-d85c-47c7-8497-6d6d3fc30556"
      },
      "execution_count": 9,
      "outputs": [
        {
          "output_type": "execute_result",
          "data": {
            "text/plain": [
              "(25000, 50)"
            ]
          },
          "metadata": {},
          "execution_count": 9
        }
      ]
    },
    {
      "cell_type": "code",
      "source": [
        "X_test.shape"
      ],
      "metadata": {
        "colab": {
          "base_uri": "https://localhost:8080/"
        },
        "id": "VkqipVQ4QPDc",
        "outputId": "fc83bc10-2f09-469c-b21a-67d3c3bcf3c7"
      },
      "execution_count": 10,
      "outputs": [
        {
          "output_type": "execute_result",
          "data": {
            "text/plain": [
              "(25000, 50)"
            ]
          },
          "metadata": {},
          "execution_count": 10
        }
      ]
    },
    {
      "cell_type": "code",
      "source": [
        "model=Sequential()\n",
        "#inside 1 Rnn cell i want 32 nodes\n",
        "model.add(SimpleRNN(32,input_shape=(50,1),return_sequences=False))\n",
        "model.add(Dense(1,activation='sigmoid'))\n",
        "\n",
        "model.summary()"
      ],
      "metadata": {
        "id": "R250pe_NQV5G",
        "colab": {
          "base_uri": "https://localhost:8080/"
        },
        "outputId": "c468cb52-3eb5-4b03-ef7d-97777b42a82b"
      },
      "execution_count": 11,
      "outputs": [
        {
          "output_type": "stream",
          "name": "stdout",
          "text": [
            "Model: \"sequential\"\n",
            "_________________________________________________________________\n",
            " Layer (type)                Output Shape              Param #   \n",
            "=================================================================\n",
            " simple_rnn (SimpleRNN)      (None, 32)                1088      \n",
            "                                                                 \n",
            " dense (Dense)               (None, 1)                 33        \n",
            "                                                                 \n",
            "=================================================================\n",
            "Total params: 1,121\n",
            "Trainable params: 1,121\n",
            "Non-trainable params: 0\n",
            "_________________________________________________________________\n"
          ]
        }
      ]
    },
    {
      "cell_type": "code",
      "source": [
        "model.compile(loss='binary_crossentropy',optimizer='adam',metrics=['accuracy'])\n",
        "\n",
        "model.fit(X_train,y_train,epochs=5,validation_data=(X_test,y_test))"
      ],
      "metadata": {
        "colab": {
          "base_uri": "https://localhost:8080/"
        },
        "id": "cdxM2h4wvYIq",
        "outputId": "389f97a4-2c1a-4e7f-a695-5519990667cb"
      },
      "execution_count": 12,
      "outputs": [
        {
          "output_type": "stream",
          "name": "stdout",
          "text": [
            "Epoch 1/5\n",
            "782/782 [==============================] - 15s 16ms/step - loss: 0.6978 - accuracy: 0.5070 - val_loss: 0.6942 - val_accuracy: 0.5007\n",
            "Epoch 2/5\n",
            "782/782 [==============================] - 12s 16ms/step - loss: 0.6932 - accuracy: 0.5049 - val_loss: 0.6944 - val_accuracy: 0.5032\n",
            "Epoch 3/5\n",
            "782/782 [==============================] - 10s 13ms/step - loss: 0.6931 - accuracy: 0.5066 - val_loss: 0.6937 - val_accuracy: 0.5064\n",
            "Epoch 4/5\n",
            "782/782 [==============================] - 10s 13ms/step - loss: 0.6930 - accuracy: 0.5082 - val_loss: 0.6936 - val_accuracy: 0.5051\n",
            "Epoch 5/5\n",
            "782/782 [==============================] - 11s 14ms/step - loss: 0.6928 - accuracy: 0.5056 - val_loss: 0.6930 - val_accuracy: 0.5064\n"
          ]
        },
        {
          "output_type": "execute_result",
          "data": {
            "text/plain": [
              "<keras.callbacks.History at 0x7fd4905d9510>"
            ]
          },
          "metadata": {},
          "execution_count": 12
        }
      ]
    },
    {
      "cell_type": "code",
      "source": [
        "X_test[0].shape"
      ],
      "metadata": {
        "colab": {
          "base_uri": "https://localhost:8080/"
        },
        "id": "E2kAE5T4z_hd",
        "outputId": "fc648ff9-bf7f-4361-a876-a10dad4eb630"
      },
      "execution_count": 13,
      "outputs": [
        {
          "output_type": "execute_result",
          "data": {
            "text/plain": [
              "(50,)"
            ]
          },
          "metadata": {},
          "execution_count": 13
        }
      ]
    },
    {
      "cell_type": "code",
      "source": [
        "pred_test=X_test[0].reshape(1,-1)"
      ],
      "metadata": {
        "id": "YtPhUPyh2ESd"
      },
      "execution_count": 16,
      "outputs": []
    },
    {
      "cell_type": "markdown",
      "source": [
        "#Prediction"
      ],
      "metadata": {
        "id": "fz5Hi5hO2tjh"
      }
    },
    {
      "cell_type": "code",
      "source": [
        "model.predict(pred_test)"
      ],
      "metadata": {
        "colab": {
          "base_uri": "https://localhost:8080/"
        },
        "id": "UEL580is2Z1M",
        "outputId": "5835e71b-d7c3-40a8-8053-8905406e2ba4"
      },
      "execution_count": 18,
      "outputs": [
        {
          "output_type": "stream",
          "name": "stdout",
          "text": [
            "1/1 [==============================] - 0s 25ms/step\n"
          ]
        },
        {
          "output_type": "execute_result",
          "data": {
            "text/plain": [
              "array([[0.4936445]], dtype=float32)"
            ]
          },
          "metadata": {},
          "execution_count": 18
        }
      ]
    },
    {
      "cell_type": "markdown",
      "source": [
        "# Encoding using keras embeddings"
      ],
      "metadata": {
        "id": "65B04gI57NLk"
      }
    },
    {
      "cell_type": "code",
      "source": [
        "docs = ['recurrent neural network',\n",
        "\t\t'neural network',\n",
        "\t\t'artificial neural',\n",
        "\t\t'connections between nodes',\n",
        "\t\t'can create a cycle',\n",
        "\t\t'allowing output',\n",
        "\t\t'some nodes to affect subsequent',\n",
        "\t\t'exhibit temporal',\n",
        "\t\t'dynamic behavior',\n",
        "\t\t'type of Neural Network',\n",
        "    'affect subsequent']"
      ],
      "metadata": {
        "id": "EWZ__FQd2lCp"
      },
      "execution_count": 1,
      "outputs": []
    },
    {
      "cell_type": "code",
      "source": [
        "from keras.preprocessing.text import Tokenizer\n",
        "tokenizer = Tokenizer()"
      ],
      "metadata": {
        "id": "mu0-16Uv7RjY"
      },
      "execution_count": 2,
      "outputs": []
    },
    {
      "cell_type": "code",
      "source": [
        "tokenizer.fit_on_texts(docs)"
      ],
      "metadata": {
        "id": "cPKHF8qX7T_O"
      },
      "execution_count": 3,
      "outputs": []
    },
    {
      "cell_type": "code",
      "source": [
        "len(tokenizer.word_index)"
      ],
      "metadata": {
        "colab": {
          "base_uri": "https://localhost:8080/"
        },
        "id": "OaNOlW037W3m",
        "outputId": "bcc096b8-df09-4c03-908b-18dcadda021e"
      },
      "execution_count": 4,
      "outputs": [
        {
          "output_type": "execute_result",
          "data": {
            "text/plain": [
              "23"
            ]
          },
          "metadata": {},
          "execution_count": 4
        }
      ]
    },
    {
      "cell_type": "code",
      "source": [
        "sequences = tokenizer.texts_to_sequences(docs)\n",
        "sequences"
      ],
      "metadata": {
        "colab": {
          "base_uri": "https://localhost:8080/"
        },
        "id": "x7rlGDk_7Z1e",
        "outputId": "b3ec4cbc-6297-4096-c7d4-ca248d48e0cc"
      },
      "execution_count": 5,
      "outputs": [
        {
          "output_type": "execute_result",
          "data": {
            "text/plain": [
              "[[6, 1, 2],\n",
              " [1, 2],\n",
              " [7, 1],\n",
              " [8, 9, 3],\n",
              " [10, 11, 12, 13],\n",
              " [14, 15],\n",
              " [16, 3, 17, 4, 5],\n",
              " [18, 19],\n",
              " [20, 21],\n",
              " [22, 23, 1, 2],\n",
              " [4, 5]]"
            ]
          },
          "metadata": {},
          "execution_count": 5
        }
      ]
    },
    {
      "cell_type": "code",
      "source": [
        "from keras.utils import pad_sequences\n",
        "sequences = pad_sequences(sequences,padding='post')\n",
        "sequences"
      ],
      "metadata": {
        "colab": {
          "base_uri": "https://localhost:8080/"
        },
        "id": "m49PPkQz7eYK",
        "outputId": "2072a2fb-d780-4fa2-89cc-1b9b646abf68"
      },
      "execution_count": 6,
      "outputs": [
        {
          "output_type": "execute_result",
          "data": {
            "text/plain": [
              "array([[ 6,  1,  2,  0,  0],\n",
              "       [ 1,  2,  0,  0,  0],\n",
              "       [ 7,  1,  0,  0,  0],\n",
              "       [ 8,  9,  3,  0,  0],\n",
              "       [10, 11, 12, 13,  0],\n",
              "       [14, 15,  0,  0,  0],\n",
              "       [16,  3, 17,  4,  5],\n",
              "       [18, 19,  0,  0,  0],\n",
              "       [20, 21,  0,  0,  0],\n",
              "       [22, 23,  1,  2,  0],\n",
              "       [ 4,  5,  0,  0,  0]], dtype=int32)"
            ]
          },
          "metadata": {},
          "execution_count": 6
        }
      ]
    },
    {
      "cell_type": "code",
      "source": [
        "from keras.layers import Embedding"
      ],
      "metadata": {
        "id": "pJJkUQq072ic"
      },
      "execution_count": 7,
      "outputs": []
    },
    {
      "cell_type": "code",
      "source": [
        "model = Sequential()\n",
        "model.add(Embedding(23,output_dim=2,input_length=5))\n",
        "\n",
        "model.summary()"
      ],
      "metadata": {
        "colab": {
          "base_uri": "https://localhost:8080/"
        },
        "id": "voMMsVJJ7iF-",
        "outputId": "477fe3a8-c669-474c-ca5e-f46f782b8bfd"
      },
      "execution_count": 10,
      "outputs": [
        {
          "output_type": "stream",
          "name": "stdout",
          "text": [
            "Model: \"sequential\"\n",
            "_________________________________________________________________\n",
            " Layer (type)                Output Shape              Param #   \n",
            "=================================================================\n",
            " embedding (Embedding)       (None, 5, 2)              46        \n",
            "                                                                 \n",
            "=================================================================\n",
            "Total params: 46\n",
            "Trainable params: 46\n",
            "Non-trainable params: 0\n",
            "_________________________________________________________________\n"
          ]
        }
      ]
    },
    {
      "cell_type": "code",
      "source": [
        "model.compile('adam','accuracy')"
      ],
      "metadata": {
        "id": "uUV_8KjP9QGr"
      },
      "execution_count": 11,
      "outputs": []
    },
    {
      "cell_type": "code",
      "source": [
        "pred = model.predict(sequences)\n",
        "print(pred)"
      ],
      "metadata": {
        "colab": {
          "base_uri": "https://localhost:8080/"
        },
        "id": "mH0K63e29kk9",
        "outputId": "29888f91-5b6c-4a06-e4f6-3c7d1aef8f4e"
      },
      "execution_count": 12,
      "outputs": [
        {
          "output_type": "stream",
          "name": "stdout",
          "text": [
            "1/1 [==============================] - 0s 108ms/step\n",
            "[[[ 0.02965966 -0.03247031]\n",
            "  [ 0.0085485  -0.02891114]\n",
            "  [-0.00476535  0.03303419]\n",
            "  [-0.02735313 -0.00881309]\n",
            "  [-0.02735313 -0.00881309]]\n",
            "\n",
            " [[ 0.0085485  -0.02891114]\n",
            "  [-0.00476535  0.03303419]\n",
            "  [-0.02735313 -0.00881309]\n",
            "  [-0.02735313 -0.00881309]\n",
            "  [-0.02735313 -0.00881309]]\n",
            "\n",
            " [[ 0.01400239  0.04195103]\n",
            "  [ 0.0085485  -0.02891114]\n",
            "  [-0.02735313 -0.00881309]\n",
            "  [-0.02735313 -0.00881309]\n",
            "  [-0.02735313 -0.00881309]]\n",
            "\n",
            " [[-0.04828208  0.01685948]\n",
            "  [-0.04966983 -0.02635912]\n",
            "  [ 0.04014215  0.02660492]\n",
            "  [-0.02735313 -0.00881309]\n",
            "  [-0.02735313 -0.00881309]]\n",
            "\n",
            " [[ 0.01958286 -0.01704063]\n",
            "  [-0.00102644 -0.0445752 ]\n",
            "  [-0.04992523  0.02076656]\n",
            "  [ 0.0252995  -0.00857317]\n",
            "  [-0.02735313 -0.00881309]]\n",
            "\n",
            " [[-0.01770631 -0.03028019]\n",
            "  [-0.01799406 -0.01540803]\n",
            "  [-0.02735313 -0.00881309]\n",
            "  [-0.02735313 -0.00881309]\n",
            "  [-0.02735313 -0.00881309]]\n",
            "\n",
            " [[ 0.04735127 -0.00307015]\n",
            "  [ 0.04014215  0.02660492]\n",
            "  [-0.04837661 -0.01930141]\n",
            "  [ 0.01636598  0.04477335]\n",
            "  [ 0.03378499  0.01428058]]\n",
            "\n",
            " [[-0.00560568  0.00155208]\n",
            "  [-0.03015052  0.03039178]\n",
            "  [-0.02735313 -0.00881309]\n",
            "  [-0.02735313 -0.00881309]\n",
            "  [-0.02735313 -0.00881309]]\n",
            "\n",
            " [[ 0.03433983  0.0284722 ]\n",
            "  [-0.02061754 -0.03700883]\n",
            "  [-0.02735313 -0.00881309]\n",
            "  [-0.02735313 -0.00881309]\n",
            "  [-0.02735313 -0.00881309]]\n",
            "\n",
            " [[-0.04202503 -0.01909621]\n",
            "  [ 0.          0.        ]\n",
            "  [ 0.0085485  -0.02891114]\n",
            "  [-0.00476535  0.03303419]\n",
            "  [-0.02735313 -0.00881309]]\n",
            "\n",
            " [[ 0.01636598  0.04477335]\n",
            "  [ 0.03378499  0.01428058]\n",
            "  [-0.02735313 -0.00881309]\n",
            "  [-0.02735313 -0.00881309]\n",
            "  [-0.02735313 -0.00881309]]]\n"
          ]
        }
      ]
    },
    {
      "cell_type": "markdown",
      "source": [
        "# Sentiment Analysis using Embedding layer"
      ],
      "metadata": {
        "id": "E8tYnBctANNl"
      }
    },
    {
      "cell_type": "code",
      "source": [
        "from keras.datasets import imdb\n",
        "from keras.preprocessing.text import Tokenizer\n",
        "from keras.utils import pad_sequences\n",
        "from keras import Sequential\n",
        "from keras.layers import Dense,SimpleRNN,Embedding,Flatten"
      ],
      "metadata": {
        "id": "y9f9fVE59tOf"
      },
      "execution_count": 13,
      "outputs": []
    },
    {
      "cell_type": "code",
      "source": [
        "(X_train,y_train),(X_test,y_test) = imdb.load_data()"
      ],
      "metadata": {
        "colab": {
          "base_uri": "https://localhost:8080/"
        },
        "id": "b8siHwwDATSR",
        "outputId": "18e173c4-2913-4470-a7b0-a5c1545a78f1"
      },
      "execution_count": 14,
      "outputs": [
        {
          "output_type": "stream",
          "name": "stdout",
          "text": [
            "Downloading data from https://storage.googleapis.com/tensorflow/tf-keras-datasets/imdb.npz\n",
            "17464789/17464789 [==============================] - 2s 0us/step\n"
          ]
        }
      ]
    },
    {
      "cell_type": "code",
      "source": [
        "X_train = pad_sequences(X_train,padding='post',maxlen=50)\n",
        "X_test = pad_sequences(X_test,padding='post',maxlen=50)"
      ],
      "metadata": {
        "id": "0XoO0DdqAVsF"
      },
      "execution_count": 15,
      "outputs": []
    },
    {
      "cell_type": "code",
      "source": [
        "X_train.shape"
      ],
      "metadata": {
        "colab": {
          "base_uri": "https://localhost:8080/"
        },
        "id": "l1BrteRZAYnf",
        "outputId": "c11d9a35-c3b1-47f4-8363-784cc23a1349"
      },
      "execution_count": 16,
      "outputs": [
        {
          "output_type": "execute_result",
          "data": {
            "text/plain": [
              "(25000, 50)"
            ]
          },
          "metadata": {},
          "execution_count": 16
        }
      ]
    },
    {
      "cell_type": "code",
      "source": [
        "model = Sequential()\n",
        "model.add(Embedding(10000,output_dim=2,input_length=50))\n",
        "model.add(SimpleRNN(32,return_sequences=False))\n",
        "model.add(Dense(1, activation='sigmoid'))\n",
        "\n",
        "model.summary()"
      ],
      "metadata": {
        "colab": {
          "base_uri": "https://localhost:8080/"
        },
        "id": "JGZyf5mhAe3t",
        "outputId": "bdfaea33-b2d2-4755-964d-d5349bf74c08"
      },
      "execution_count": 17,
      "outputs": [
        {
          "output_type": "stream",
          "name": "stdout",
          "text": [
            "Model: \"sequential_1\"\n",
            "_________________________________________________________________\n",
            " Layer (type)                Output Shape              Param #   \n",
            "=================================================================\n",
            " embedding_1 (Embedding)     (None, 50, 2)             20000     \n",
            "                                                                 \n",
            " simple_rnn (SimpleRNN)      (None, 32)                1120      \n",
            "                                                                 \n",
            " dense (Dense)               (None, 1)                 33        \n",
            "                                                                 \n",
            "=================================================================\n",
            "Total params: 21,153\n",
            "Trainable params: 21,153\n",
            "Non-trainable params: 0\n",
            "_________________________________________________________________\n"
          ]
        }
      ]
    },
    {
      "cell_type": "code",
      "source": [
        "model.compile(optimizer='adam', loss='binary_crossentropy', metrics=['acc'])\n",
        "history = model.fit(X_train, y_train,epochs=5,validation_data=(X_test,y_test))"
      ],
      "metadata": {
        "colab": {
          "base_uri": "https://localhost:8080/"
        },
        "id": "4pwYSAAuA_1G",
        "outputId": "31825791-3af3-4abb-9e39-39f0d543c462"
      },
      "execution_count": 18,
      "outputs": [
        {
          "output_type": "stream",
          "name": "stdout",
          "text": [
            "Epoch 1/5\n",
            "782/782 [==============================] - 79s 93ms/step - loss: 0.5640 - acc: 0.6847 - val_loss: 0.4290 - val_acc: 0.8045\n",
            "Epoch 2/5\n",
            "782/782 [==============================] - 51s 66ms/step - loss: 0.3730 - acc: 0.8391 - val_loss: 0.4307 - val_acc: 0.8104\n",
            "Epoch 3/5\n",
            "782/782 [==============================] - 51s 65ms/step - loss: 0.3170 - acc: 0.8684 - val_loss: 0.4304 - val_acc: 0.8065\n",
            "Epoch 4/5\n",
            "782/782 [==============================] - 49s 63ms/step - loss: 0.2815 - acc: 0.8906 - val_loss: 0.4613 - val_acc: 0.8024\n",
            "Epoch 5/5\n",
            "782/782 [==============================] - 50s 64ms/step - loss: 0.2572 - acc: 0.9002 - val_loss: 0.5017 - val_acc: 0.7965\n"
          ]
        }
      ]
    },
    {
      "cell_type": "code",
      "source": [
        "test_data = X_test[0][0:50].reshape(1,-1)\n",
        "model.predict(test_data)"
      ],
      "metadata": {
        "colab": {
          "base_uri": "https://localhost:8080/"
        },
        "id": "iKZey0f6BCC7",
        "outputId": "06d48e41-0ee3-4a5c-edca-25b5b29ef11c"
      },
      "execution_count": 19,
      "outputs": [
        {
          "output_type": "stream",
          "name": "stdout",
          "text": [
            "1/1 [==============================] - 0s 258ms/step\n"
          ]
        },
        {
          "output_type": "execute_result",
          "data": {
            "text/plain": [
              "array([[0.32956582]], dtype=float32)"
            ]
          },
          "metadata": {},
          "execution_count": 19
        }
      ]
    },
    {
      "cell_type": "code",
      "source": [],
      "metadata": {
        "id": "4Ks22mp9CS5I"
      },
      "execution_count": null,
      "outputs": []
    }
  ]
}