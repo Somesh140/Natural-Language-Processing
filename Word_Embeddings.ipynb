{
  "cells": [
    {
      "cell_type": "markdown",
      "metadata": {
        "id": "view-in-github",
        "colab_type": "text"
      },
      "source": [
        "<a href=\"https://colab.research.google.com/github/Somesh140/NLP_sentiment_analysis/blob/main/Word_Embeddings.ipynb\" target=\"_parent\"><img src=\"https://colab.research.google.com/assets/colab-badge.svg\" alt=\"Open In Colab\"/></a>"
      ]
    },
    {
      "cell_type": "markdown",
      "metadata": {
        "id": "NqjfGZoPyuLS"
      },
      "source": [
        "# Word Embeddings"
      ]
    },
    {
      "cell_type": "markdown",
      "metadata": {
        "id": "W9QEQiVQyuLX"
      },
      "source": [
        "# **One-Hot encoding**\n",
        "\n",
        "**Why is it called one-hot?** \n",
        "\n",
        "**After each word is one-hot encoded, only one position has an element of 1 and the other positions are all 0.**\n",
        "\n",
        "For example, \n",
        "the sentence **\"the boy is crying\"** (assuming there are only four English words in the world), after one-hot encoding,\n",
        "\n",
        "**the corresponds to (1, 0, 0, 0)**\n",
        "\n",
        "**boy corresponds to (0, 1, 0 ， 0）**\n",
        "\n",
        "**is corresponds to (0,0,1,0)**\n",
        "\n",
        "**crying corresponds to (0,0,0,1)**\n",
        "\n",
        "Each word corresponds to a position in the vector, and this position represents the word.\n",
        "\n",
        "But this way requires a very high dimension, because if all vocabularies have 100,000 words, then each word needs to be represented by a vector of length 100,000.\n",
        "\n",
        "**the corresponding to (1, 0, 0, 0, ..., 0) (length is 100,000)**\n",
        "\n",
        "**boy corresponding to (0, 1, 0, 0, ..., 0)**\n",
        "\n",
        "**is corresponding to (0, 0, 1, 0 , ..., 0)**\n",
        "\n",
        "**crying corresponds to (0,0,0,1, ..., 0) to get high-dimensional sparse tensors.**\n",
        "\n",
        "\n"
      ]
    },
    {
      "cell_type": "markdown",
      "metadata": {
        "id": "R4K2mc5nyuLY"
      },
      "source": [
        "### Disadvatages of One HotEncoding"
      ]
    },
    {
      "cell_type": "markdown",
      "metadata": {
        "id": "MBQJFYbByuLZ"
      },
      "source": [
        "One-Hot coding is simple and easy to use, the disadvantages are also obvious:\n",
        "\n",
        ">The length of the word vector is equal to the length of the vocabulary, and the word vector is extremely sparse. When the vocabulary is large, the computational complexity will be very large.\n",
        "\n",
        ">Any two words are orthogonal, meaning that the relationship between words cannot be obtained from the One-Hot code\n",
        "\n",
        ">The distance between any two words is equal, and the semantic relevance of the two words cannot be reflected from the distance\n"
      ]
    },
    {
      "cell_type": "markdown",
      "metadata": {
        "id": "7hiSfIqPyuLa"
      },
      "source": [
        "## **Embedding**\n",
        "In contrast, word embedding embeds words into a low-dimensional dense space.\n",
        "\n",
        "For example, the same **\"the boy is crying\"** sentence (assuming that there are only 4 English words in the world), after encoding, it may become:\n",
        "\n",
        "**the corresponding (0.1)**\n",
        "\n",
        "**boy corresponding (0.14)**\n",
        "\n",
        "**is corresponding (0)**\n",
        "\n",
        "**crying corresponding (0.82)**\n",
        "\n",
        "We assume that the embedded space is 256 dimensions (generally 256, 512 or 1024 dimensions, the larger the vocabulary, the higher the corresponding spatial dimension)\n",
        "\n",
        "**Then\n",
        "the corresponding (\n",
        "0.1,\n",
        "0.2, 0.4,\n",
        "0 , ...) (vector length is 256) boy corresponds to (0.23, 0.14, 0, 0 , ...) is corresponding to (0, 0 , 0.41, 0.9, ...) , 0.82, 0, 0.14, ...)**\n",
        "\n",
        "One-hot encoding is very simple, but the spatial dimension is high and for one-hot encoding, the distance between any two words is $$\\sqrt{2}$$.\n",
        "\n",
        " But in practice, the word **(boy) to word (man) should be very close** (because they are closely related), and **the word (cat) to word (stone) should be very far** (because they are basically unrelated).\n",
        "\n",
        "Embedding space has low dimensions and allows space to have structure .\n",
        "\n",
        "For example, the distance between the vectors can reflect gender, age, etc. (this requires training, and the unembedding layer has no structure), for example:\n",
        "\n",
        "**man-woman = boy-girl**\n",
        "\n",
        "**man-daddy = woman-mother**"
      ]
    },
    {
      "cell_type": "markdown",
      "metadata": {
        "id": "5bfuJv-9yuLa"
      },
      "source": [
        "In Keras, the Embedding layer requires two parameters, one is the number of words in the token, and the other is the embedded dimension"
      ]
    },
    {
      "cell_type": "code",
      "execution_count": null,
      "metadata": {
        "id": "IF5F9jyCyuLb"
      },
      "outputs": [],
      "source": [
        "from tensorflow import keras\n",
        "from keras.layers import Embedding\n",
        "embedding_layer = Embedding(1000,64)"
      ]
    },
    {
      "cell_type": "markdown",
      "metadata": {
        "id": "2SEy1dnWyuLh"
      },
      "source": [
        "1000 : The length of the token is 1000 (can be considered as the number of all words in the vocabulary)\n",
        "\n",
        "64 : Represents embedded 64-dimensional space (64 attributes can be considered, such as imaginary adult eye shape, nose shape, mouth shape, height, weight, age, etc., together, it is a person (word). A word, a thousand such words means all the words in the vocabulary)\n",
        "\n",
        "Embedding layer input : a two-dimensional tensor with the shape (samples, sequential_length)\n",
        "samples: represent different sentences.\n",
        "sequential_length: represents the number of words in the sentence, each word corresponds to a number, a total of sequential_length words.\n",
        "\n",
        "The output of the embedding layer : a three-dimensional tensor with the shape (samples, sequential_length, dimensionality)\n",
        "samples: Represent different sentences.\n",
        "sequential_length: represents the number of words in a sentence.\n",
        "dimensionality: represents the number of channels. A vector of values ​​on all channels on the same samples and the same sequential_length represents a word, such as (0,0, :) represents a word.\n",
        "\n",
        "The embedding layer can be regarded as a matrix , assuming that the input is (100, 20), 100 sequences of length 20, the vocabulary length is 10000, Embedding (10000, 8), and the output is (100, 20, 8)\n",
        "because After one-hot encoding, each sequence can be regarded as (20, 10000), and the matrix of (10000, 8) is multiplied to get the matrix of (20, 8), so 100 such sequences pass through the embedding layer. Becomes (100, 20, 8)"
      ]
    },
    {
      "cell_type": "code",
      "execution_count": null,
      "metadata": {
        "colab": {
          "base_uri": "https://localhost:8080/"
        },
        "id": "ptRi7XJiyuLi",
        "outputId": "372bf570-263a-4e16-902a-f38404cd0e92"
      },
      "outputs": [
        {
          "name": "stdout",
          "output_type": "stream",
          "text": [
            "Model: \"sequential_1\"\n",
            "_________________________________________________________________\n",
            " Layer (type)                Output Shape              Param #   \n",
            "=================================================================\n",
            " embedding_2 (Embedding)     (None, 20, 8)             80000     \n",
            "                                                                 \n",
            " flatten_1 (Flatten)         (None, 160)               0         \n",
            "                                                                 \n",
            " dense_1 (Dense)             (None, 1)                 161       \n",
            "                                                                 \n",
            "=================================================================\n",
            "Total params: 80,161\n",
            "Trainable params: 80,161\n",
            "Non-trainable params: 0\n",
            "_________________________________________________________________\n"
          ]
        }
      ],
      "source": [
        "#Instantiate an Embedding layer\n",
        "\n",
        "from keras.models import Sequential\n",
        "from keras.layers import Flatten,Dense,Embedding\n",
        "\n",
        "model = Sequential()\n",
        "model.add(Embedding(10000,8,input_length=20))\n",
        "model.add(Flatten())\n",
        "model.add(Dense(1,activation='sigmoid'))\n",
        "model.summary()"
      ]
    },
    {
      "cell_type": "code",
      "execution_count": null,
      "metadata": {
        "colab": {
          "base_uri": "https://localhost:8080/"
        },
        "id": "dH7eqsf_yuLl",
        "outputId": "ec87160b-eb36-4cfe-b3a9-8566e49e1423"
      },
      "outputs": [
        {
          "name": "stdout",
          "output_type": "stream",
          "text": [
            "Downloading data from https://storage.googleapis.com/tensorflow/tf-keras-datasets/imdb.npz\n",
            "17464789/17464789 [==============================] - 0s 0us/step\n"
          ]
        }
      ],
      "source": [
        "from keras.datasets import imdb\n",
        "from keras import preprocessing\n",
        "from keras.models import Sequential\n",
        "from keras.layers import Flatten,Dense,Embedding\n",
        "from keras_preprocessing.sequence import pad_sequences\n",
        "\n",
        "max_features = 10000\n",
        "maxlen = 20\n",
        "\n",
        "(x_train,y_train),(x_test,y_test) = imdb.load_data(num_words=10000)\n",
        "#(train_data, train_labels), (test_data, test_labels) = imdb.load_data(num_words=10000)\n",
        "\n",
        "x_train = pad_sequences(x_train,maxlen=maxlen)\n",
        "x_test = pad_sequences(x_test,maxlen=maxlen)\n",
        "\n",
        "\n",
        "model = Sequential()\n",
        "\n",
        "model.add(Embedding(10000,8,input_length=maxlen))\n",
        "model.add(Flatten())\n",
        "model.add(Dense(1,activation='sigmoid'))\n"
      ]
    },
    {
      "cell_type": "code",
      "execution_count": null,
      "metadata": {
        "id": "--uzhSSayuLp",
        "outputId": "65e4b9bb-9176-4957-ffd6-00d64c052989"
      },
      "outputs": [
        {
          "name": "stdout",
          "output_type": "stream",
          "text": [
            "WARNING:tensorflow:From /home/paul/anaconda3/lib/python3.7/site-packages/tensorflow/python/ops/math_ops.py:3066: to_int32 (from tensorflow.python.ops.math_ops) is deprecated and will be removed in a future version.\n",
            "Instructions for updating:\n",
            "Use tf.cast instead.\n",
            "Train on 20000 samples, validate on 5000 samples\n",
            "Epoch 1/10\n",
            "20000/20000 [==============================] - 3s 128us/step - loss: 0.6626 - acc: 0.6381 - val_loss: 0.6045 - val_acc: 0.7002\n",
            "Epoch 2/10\n",
            "20000/20000 [==============================] - 2s 122us/step - loss: 0.5300 - acc: 0.7552 - val_loss: 0.5185 - val_acc: 0.7316\n",
            "Epoch 3/10\n",
            "20000/20000 [==============================] - 2s 122us/step - loss: 0.4564 - acc: 0.7901 - val_loss: 0.4971 - val_acc: 0.7490\n",
            "Epoch 4/10\n",
            "20000/20000 [==============================] - 2s 114us/step - loss: 0.4204 - acc: 0.8079 - val_loss: 0.4934 - val_acc: 0.7492\n",
            "Epoch 5/10\n",
            "20000/20000 [==============================] - 2s 108us/step - loss: 0.3960 - acc: 0.8219 - val_loss: 0.4953 - val_acc: 0.7530\n",
            "Epoch 6/10\n",
            "20000/20000 [==============================] - 2s 114us/step - loss: 0.3762 - acc: 0.8325 - val_loss: 0.4982 - val_acc: 0.7514\n",
            "Epoch 7/10\n",
            "20000/20000 [==============================] - 2s 106us/step - loss: 0.3584 - acc: 0.8432 - val_loss: 0.5039 - val_acc: 0.7532\n",
            "Epoch 8/10\n",
            "20000/20000 [==============================] - 2s 109us/step - loss: 0.3422 - acc: 0.8533 - val_loss: 0.5079 - val_acc: 0.7524\n",
            "Epoch 9/10\n",
            "20000/20000 [==============================] - 2s 115us/step - loss: 0.3259 - acc: 0.8627 - val_loss: 0.5148 - val_acc: 0.7520\n",
            "Epoch 10/10\n",
            "20000/20000 [==============================] - 2s 121us/step - loss: 0.3099 - acc: 0.8716 - val_loss: 0.5218 - val_acc: 0.7532\n"
          ]
        }
      ],
      "source": [
        "model.compile(optimizer='rmsprop',loss='binary_crossentropy',metrics=['acc'])\n",
        "history = model.fit(x_train,y_train,epochs=1,batch_size=32,validation_split=0.2,verbose=1)"
      ]
    },
    {
      "cell_type": "markdown",
      "metadata": {
        "id": "uoHp5o9TyuLt"
      },
      "source": [
        "#### It can be seen that in the embedding layer, we need to train 8 times 10000 = 80,000 parameters. Each row in the trained embedding layer represents a vector of words.\n",
        "\n",
        ">Use the Embedding layer and classifier on IMDB data.\n",
        "\n",
        ">The imdb data set built in keras has classified positive and negative evaluations and vectorized evaluation content. We use the Embedding layer and classifier to train a neural network. How well did it perform.\n"
      ]
    },
    {
      "cell_type": "code",
      "execution_count": null,
      "metadata": {
        "id": "Vk7-H5FpyuLu"
      },
      "outputs": [],
      "source": []
    },
    {
      "cell_type": "markdown",
      "metadata": {
        "id": "JqyQ54_kyuL0"
      },
      "source": [
        "#### Draw a picture and observe a wave carefully:"
      ]
    },
    {
      "cell_type": "code",
      "execution_count": null,
      "metadata": {
        "id": "lk_C-IpVyuL1",
        "outputId": "c8ca8d99-e1c0-4a6e-a284-fb3cf0d58502"
      },
      "outputs": [
        {
          "data": {
            "image/png": "[encoded data removed]",
            "text/plain": [
              "<Figure size 432x288 with 1 Axes>"
            ]
          },
          "metadata": {
            "tags": []
          },
          "output_type": "display_data"
        },
        {
          "data": {
            "image/png": "[encoded data removed]",
            "text/plain": [
              "<Figure size 432x288 with 1 Axes>"
            ]
          },
          "metadata": {
            "tags": []
          },
          "output_type": "display_data"
        }
      ],
      "source": [
        "import matplotlib.pyplot as plt\n",
        "\n",
        "acc=history.history['acc']\n",
        "val_acc=history.history['val_acc']\n",
        "loss=history.history['loss']\n",
        "val_loss=history.history['val_loss']\n",
        "\n",
        "epochs=range(1,len(acc)+1)\n",
        "\n",
        "plt.plot(epochs,acc,'bo',label='acc')\n",
        "plt.plot(epochs,val_acc,'b',label='val_acc')\n",
        "plt.legend()\n",
        "\n",
        "plt.figure()\n",
        "plt.plot(epochs,loss,'bo',label='loss')\n",
        "plt.plot(epochs,val_loss,'b',label='val_loss')\n",
        "plt.legend()\n",
        "\n",
        "plt.show()"
      ]
    },
    {
      "cell_type": "markdown",
      "metadata": {
        "id": "q_9w0BPMyuL4"
      },
      "source": [
        "#### It can be seen that the verification accuracy is about 75%."
      ]
    },
    {
      "cell_type": "markdown",
      "metadata": {
        "id": "Lf3CNxioyuL4"
      },
      "source": [
        "# BOW"
      ]
    },
    {
      "cell_type": "markdown",
      "metadata": {
        "id": "P53EmPynyuL5"
      },
      "source": [
        "**Bag-of-words model is a commonly used document representation method in the field of information retrieval .**\n",
        "\n",
        ">In information retrieval, the BOW model assumes that for a document, it ignores its word order, grammar, syntax and other factors, and treats it as a collection of several words. The appearance of each word in the document is independent and independent of whether other words appear. **(It's out of order)**\n",
        "\n",
        ">The Bag-of-words model (BoW model) ignores the grammar and word order of a text, and uses a set of unordered words to express a text or a document.\n",
        "\n",
        "#### Let's take an example\n",
        "\n",
        "`John likes to watch movies. Mary likes too.`\n",
        "\n",
        "`John also likes to watch football games.`\n",
        "\n",
        "Build a dictionary based on the words that appear in the above two sentences:\n",
        "\n",
        "`{\"John\": 1, \"likes\": 2, \"to\": 3, \"watch\": 4, \"movies\": 5, \"also\": 6, \"football\": 7, \"games\": 8, \"Mary\": 9, \"too\": 10}`\n",
        "\n",
        "\n",
        "The dictionary contains 10 words, each word has a unique index. Note that their order is not related to the order in which they appear in the sentence. According to this dictionary, we re-express the above two sentences into the following two vectors:\n",
        "\n",
        "`[1, 2, 1, 1, 1, 0, 0, 0, 1, 1]`\n",
        "\n",
        "`[1, 1, 1, 1, 0, 1, 1, 1, 0, 0]`\n",
        "\n",
        "\n",
        "These two vectors contain a total of 10 elements, where the i-th element represents the number of times the i-th word in the dictionary appears in the sentence. \n",
        "\n",
        "Now imagine a **huge document set D with a total of M documents**. After all the words in the document are extracted, they form a dictionary containing N words. Using the Bag-of-words model, **each document can be represented as an N-dimensional vector**.\n",
        "\n",
        "\n",
        "Therefore, the BoW model can be considered as a statistical histogram. It is used in text retrieval and processing applications."
      ]
    },
    {
      "cell_type": "markdown",
      "metadata": {
        "id": "bU0XAU4qyuL5"
      },
      "source": [
        "## TF-IDF"
      ]
    },
    {
      "cell_type": "markdown",
      "metadata": {
        "id": "Zk0Eg4qdyuL6"
      },
      "source": [
        "**TF-IDF (Term Frequency-Inverse Document Frequency)**, a commonly used weighting technique for information retrieval and information exploration.\n",
        "\n",
        "TF-IDF is a statistical method used to evaluate the importance of a word to a file set or a file in a corpus. The importance of the word increases in proportion to the number of times it appears in the file, but at the same time decreases inversely with the frequency of its appearance in the corpus.\n",
        "\n",
        "* **Term frequency TF (item frequency)**: number of times a given word appears in the text. This number is usually normalized (the numerator is generally smaller than the denominator) to prevent it from favoring long documents, because whether the term is important or not, it is likely to appear more often in long documents than in paragraph documents.\n",
        "\n",
        "> **TF(t) = (Number of times term t appears in a document) / (Total number of terms in the document).**\n",
        "\n",
        "Term frequency (TF) indicates how often a term (keyword) appears in the text .\n",
        "\n",
        "This number is usually normalized (usually the word frequency divided by the total number of words in the article) to prevent it from favoring long documents."
      ]
    },
    {
      "cell_type": "markdown",
      "metadata": {
        "id": "sIJIuSpMyuL7"
      },
      "source": [
        "**Formula of Tf**    ![title](img/tf.png)\n",
        "\n",
        "\n",
        "where  ni, j  is the number of occurrences of the word in the file  dj  , and the denominator is the sum of the occurrences of all words in the file dj;"
      ]
    },
    {
      "cell_type": "markdown",
      "metadata": {
        "id": "CVP7FEGoyuL7"
      },
      "source": []
    },
    {
      "cell_type": "markdown",
      "metadata": {
        "id": "eJzZpE-JyuL8"
      },
      "source": []
    },
    {
      "cell_type": "markdown",
      "metadata": {
        "id": "6Dwu6mPKyuL8"
      },
      "source": [
        "* **Inverse document frequency (IDF)**: A measure of the general importance of a word. The main idea is that if there are fewer documents containing the entry t and the larger, it means that the entry has a good ability to distinguish categories. The IDF of a specific word can be calculated by dividing the total number of files by the number of files containing the word, and then taking the log of the obtained quotient.\n",
        "\n",
        ">**IDF(t) = log_e(Total number of documents / Number of documents with term t in it).**"
      ]
    },
    {
      "cell_type": "markdown",
      "metadata": {
        "id": "T26bTkv0yuL9"
      },
      "source": [
        "**Formula of Idf**  ![title](img/idf1.png)\n",
        "\n",
        "\n",
        "among them\n",
        "\n",
        "* | D |: Total number of files in the corpus\n",
        "\n",
        "* |  {  $j: $t_{i}$ \\in $d_{j} $$  }  | : The number of files containing words $t_{i}$ ( $n_{i,j}$ $\\neq$ 0 , the number of files). If the word is not in the corpus, it will cause the dividend to be zero, so it is generally used.1 + |  {  $j :$t_{i}$ \\in $d_{j}$$  }  |.\n",
        "\n",
        "\n",
        "**So, Formula of tf-Idf** ![title](img/ttttt.png)"
      ]
    },
    {
      "cell_type": "markdown",
      "metadata": {
        "id": "0n2YUwi1yuL-"
      },
      "source": [
        "#### Example:\n",
        "\n",
        "Consider a document containing 100 words where in the word cat appears 3 times. \n",
        "\n",
        "The **term frequency (Tf) for cat** is then **(3 / 100) = 0.03**. Now, assume we have 10 million documents and the word cat appears in one thousand of these.\n",
        "\n",
        "Then, the **inverse document frequency (Idf)** is calculated as **log(10,000,000 / 1,000) = 4.** \n",
        "\n",
        "Thus, the **Tf-idf** weight is the product of these quantities: **0.03 * 4 = 0.12.**"
      ]
    },
    {
      "cell_type": "markdown",
      "metadata": {
        "id": "tGd8-mdVyuMA"
      },
      "source": [
        "#### TF-IDF application\n",
        "\n",
        "1.  **Search engine**\n",
        "2.  **Keyword extraction**\n",
        "3.  **Text similarity**\n",
        "4.  **Text summary**"
      ]
    },
    {
      "cell_type": "markdown",
      "metadata": {
        "id": "AScJZdWYyuMB"
      },
      "source": [
        "## Code Implementation"
      ]
    },
    {
      "cell_type": "markdown",
      "metadata": {
        "id": "n3sOgkIoyuMB"
      },
      "source": [
        "### Python3 implements TF-IDF algorithm"
      ]
    },
    {
      "cell_type": "code",
      "execution_count": null,
      "metadata": {
        "id": "stTIGcpayuMC",
        "outputId": "2069fa61-16dd-4bc2-d92e-93cb6f869c65"
      },
      "outputs": [
        {
          "name": "stdout",
          "output_type": "stream",
          "text": [
            "[('to', 0.0322394037469742), ('stop', 0.0322394037469742), ('worthless', 0.0322394037469742), ('my', 0.028288263356383563), ('dog', 0.028288263356383563), ('him', 0.028288263356383563), ('stupid', 0.028288263356383563), ('has', 0.025549122992281622), ('flea', 0.025549122992281622), ('problems', 0.025549122992281622), ('help', 0.025549122992281622), ('please', 0.025549122992281622), ('maybe', 0.025549122992281622), ('not', 0.025549122992281622), ('take', 0.025549122992281622), ('park', 0.025549122992281622), ('dalmation', 0.025549122992281622), ('is', 0.025549122992281622), ('so', 0.025549122992281622), ('cute', 0.025549122992281622), ('I', 0.025549122992281622), ('love', 0.025549122992281622), ('posting', 0.025549122992281622), ('garbage', 0.025549122992281622), ('mr', 0.025549122992281622), ('licks', 0.025549122992281622), ('ate', 0.025549122992281622), ('steak', 0.025549122992281622), ('how', 0.025549122992281622), ('quit', 0.025549122992281622), ('buying', 0.025549122992281622), ('food', 0.025549122992281622)]\n",
            "32\n"
          ]
        }
      ],
      "source": [
        "\n",
        "from collections import defaultdict\n",
        "import math\n",
        "import operator\n",
        " \n",
        "\n",
        "def loadDataSet():\n",
        "    dataset = [ ['my', 'dog', 'has', 'flea', 'problems', 'help', 'please'],    \n",
        "                   ['maybe', 'not', 'take', 'him', 'to', 'dog', 'park', 'stupid'],\n",
        "                   ['my', 'dalmation', 'is', 'so', 'cute', 'I', 'love', 'him'],\n",
        "                   ['stop', 'posting', 'stupid', 'worthless', 'garbage'],\n",
        "                   ['mr', 'licks', 'ate', 'my', 'steak', 'how', 'to', 'stop', 'him'],\n",
        "                   ['quit', 'buying', 'worthless', 'dog', 'food', 'stupid'] ]\n",
        "    classVec = [0, 1, 0, 1, 0, 1]  \n",
        "    return dataset, classVec\n",
        " \n",
        "\n",
        "def feature_select(list_words):\n",
        "    \n",
        "    doc_frequency=defaultdict(int)\n",
        "    for word_list in list_words:\n",
        "        for i in word_list:\n",
        "            doc_frequency[i]+=1\n",
        " \n",
        "    \n",
        "    word_tf={}  \n",
        "    for i in doc_frequency:\n",
        "        word_tf[i]=doc_frequency[i]/sum(doc_frequency.values())\n",
        " \n",
        "    \n",
        "    doc_num=len(list_words)\n",
        "    word_idf={} \n",
        "    word_doc=defaultdict(int) \n",
        "    for i in doc_frequency:\n",
        "        for j in list_words:\n",
        "            if i in j:\n",
        "                word_doc[i]+=1\n",
        "    for i in doc_frequency:\n",
        "        word_idf[i]=math.log(doc_num/(word_doc[i]+1))\n",
        " \n",
        "    \n",
        "    word_tf_idf={}\n",
        "    for i in doc_frequency:\n",
        "        word_tf_idf[i]=word_tf[i]*word_idf[i]\n",
        " \n",
        "    \n",
        "    dict_feature_select=sorted(word_tf_idf.items(),key=operator.itemgetter(1),reverse=True)\n",
        "    return dict_feature_select\n",
        " \n",
        "if __name__=='__main__':\n",
        "    data_list,label_list=loadDataSet() \n",
        "    features=feature_select(data_list) \n",
        "    print(features)\n",
        "    print(len(features))"
      ]
    },
    {
      "cell_type": "code",
      "execution_count": null,
      "metadata": {
        "id": "WB-5ItW_yuMF",
        "outputId": "42909384-1ae5-406a-a2fc-9fd6dd8c92c6"
      },
      "outputs": [
        {
          "name": "stdout",
          "output_type": "stream",
          "text": [
            "Collecting nltk\n",
            "  Using cached https://files.pythonhosted.org/packages/f6/1d/d925cfb4f324ede997f6d47bea4d9babba51b49e87a767c170b77005889d/nltk-3.4.5.zip\n",
            "Requirement already satisfied: six in c:\\users\\soura\\anaconda3\\envs\\tensor\\lib\\site-packages (from nltk) (1.12.0)\n",
            "Building wheels for collected packages: nltk\n",
            "  Building wheel for nltk (setup.py): started\n",
            "  Building wheel for nltk (setup.py): finished with status 'done'\n",
            "  Stored in directory: C:\\Users\\soura\\AppData\\Local\\pip\\Cache\\wheels\\96\\86\\f6\\68ab24c23f207c0077381a5e3904b2815136b879538a24b483\n",
            "Successfully built nltk\n",
            "Installing collected packages: nltk\n",
            "Successfully installed nltk-3.4.5\n"
          ]
        }
      ],
      "source": [
        "!pip install nltk"
      ]
    },
    {
      "cell_type": "markdown",
      "metadata": {
        "id": "CXNYTNgYyuMI"
      },
      "source": [
        "### NLTK implements the TF-IDF algorithm"
      ]
    },
    {
      "cell_type": "code",
      "execution_count": null,
      "metadata": {
        "id": "YCjMMcmWyuMI",
        "outputId": "827eb657-f83a-4628-83c6-d7f022bec034"
      },
      "outputs": [
        {
          "name": "stdout",
          "output_type": "stream",
          "text": [
            "[['this', 'is', 'sentence', 'one'], ['this', 'is', 'sentence', 'two'], ['this', 'is', 'sentence', 'three']]\n",
            "<Text: this is sentence one this is sentence two...>\n",
            "0.08333333333333333\n",
            "1.0986122886681098\n",
            "0.0915510240556758\n"
          ]
        }
      ],
      "source": [
        "from nltk.text import TextCollection\n",
        "from nltk.tokenize import word_tokenize\n",
        " \n",
        "sents=['this is sentence one','this is sentence two','this is sentence three']\n",
        "sents=[word_tokenize(sent) for sent in sents]\n",
        "print(sents)\n",
        "corpus=TextCollection(sents)\n",
        "print(corpus)\n",
        " \n",
        "tf=corpus.tf('one',corpus)\n",
        "print(tf)\n",
        " \n",
        "idf=corpus.idf('one')\n",
        "print(idf)\n",
        " \n",
        "tf_idf=corpus.tf_idf('one',corpus)\n",
        "print(tf_idf)"
      ]
    },
    {
      "cell_type": "markdown",
      "metadata": {
        "id": "w9n624C3yuML"
      },
      "source": [
        "### Sklearn implements TF-IDF algorithm"
      ]
    },
    {
      "cell_type": "code",
      "execution_count": null,
      "metadata": {
        "id": "3GfNfRBSyuMM",
        "outputId": "92169ae9-418e-45d1-b05a-99cc1266b71b"
      },
      "outputs": [
        {
          "name": "stdout",
          "output_type": "stream",
          "text": [
            "Output x_train text vector：\n",
            "[[0.22941573 0.22941573 0.22941573 0.45883147 0.22941573 0.22941573\n",
            "  0.22941573 0.22941573 0.45883147 0.45883147]]\n",
            "Output x_test text vector：\n",
            "[[0. 0. 0. 0. 0. 0. 0. 0. 0. 0.]\n",
            " [0. 0. 0. 0. 1. 0. 0. 0. 0. 0.]]\n"
          ]
        }
      ],
      "source": [
        "\n",
        "from sklearn.feature_extraction.text import CountVectorizer\n",
        "from sklearn.feature_extraction.text import TfidfTransformer\n",
        " \n",
        "x_train = ['The main idea of TF-IDF is that algorithm is an important feature that can be separated from the corpus background']\n",
        "x_test=['Original text marked ',' main idea']\n",
        " \n",
        "vectorizer = CountVectorizer(max_features=10)\n",
        "\n",
        "tf_idf_transformer = TfidfTransformer()\n",
        "\n",
        "tf_idf = tf_idf_transformer.fit_transform(vectorizer.fit_transform(x_train))\n",
        "\n",
        "x_train_weight = tf_idf.toarray()\n",
        " \n",
        "\n",
        "tf_idf = tf_idf_transformer.transform(vectorizer.transform(x_test))\n",
        "x_test_weight = tf_idf.toarray()\n",
        " \n",
        "print('Output x_train text vector：')\n",
        "print(x_train_weight)\n",
        "print('Output x_test text vector：')\n",
        "print(x_test_weight)"
      ]
    },
    {
      "cell_type": "code",
      "execution_count": null,
      "metadata": {
        "id": "UQe105WeyuMO"
      },
      "outputs": [],
      "source": [
        "Keywords are words that can express the content of the center of a document.\n",
        "Information retrieval and system collection for reader review. Keyword extraction is a branch of the field of text mining.\n",
        "Basic work of text mining research such as document comparison, abstract generation, document classification and clustering"
      ]
    },
    {
      "cell_type": "markdown",
      "metadata": {
        "id": "qOCWnV-xyuMT"
      },
      "source": [
        "### Jieba implements TF-IDF algorithm"
      ]
    },
    {
      "cell_type": "code",
      "execution_count": null,
      "metadata": {
        "id": "tfac_ExTyuMU",
        "outputId": "2c8bed82-219f-4bd2-ce4e-b0341e66b998"
      },
      "outputs": [
        {
          "name": "stderr",
          "output_type": "stream",
          "text": [
            "Building prefix dict from the default dictionary ...\n",
            "Loading model from cache C:\\Users\\soura\\AppData\\Local\\Temp\\jieba.cache\n",
            "Loading model cost 1.322 seconds.\n",
            "Prefix dict has been built successfully.\n"
          ]
        },
        {
          "name": "stdout",
          "output_type": "stream",
          "text": [
            "['document', 'text', 'mining', 'Keywords', 'words']\n"
          ]
        }
      ],
      "source": [
        "\n",
        "import jieba.analyse\n",
        " \n",
        "text='Keywords are words that can express the content of the center of a document.Information retrieval and system collection for reader review. Keyword extraction is a branch of the field of text mining.Basic work of text mining research such as document comparison, abstract generation, document classification and clustering'\n",
        " \n",
        "keywords=jieba.analyse.extract_tags(text, topK=5, withWeight=False, allowPOS=())\n",
        "print(keywords)"
      ]
    },
    {
      "cell_type": "code",
      "execution_count": null,
      "metadata": {
        "id": "QnibpAlbyuMX"
      },
      "outputs": [],
      "source": []
    },
    {
      "cell_type": "markdown",
      "metadata": {
        "id": "39x0oBreyuMa"
      },
      "source": [
        "# n GRAM"
      ]
    },
    {
      "cell_type": "markdown",
      "metadata": {
        "id": "MIKOVLUfyuMa"
      },
      "source": [
        "**Wikipedia definition**: \n",
        "\n",
        "**In computational linguistics, n-gram refers to n consecutive items in the text (items can be phoneme, syllable, letter, word or base pairs)**\n",
        "\n",
        "N-grams of texts are widely used in the field of text mining and natural language processing. They are basically a set of co-occurring words within a defined window and when computing the n-grams, we typically move one word forward or more depending upon the scenario.\n",
        "\n",
        ">For example, for the sentence **“The cow jumps over the moon”**. If **N=2** (known as bigrams), then the ngrams would be:\n",
        "\n",
        "* the cow\n",
        "* cow jumps\n",
        "* jumps over\n",
        "* over the\n",
        "* the moon\n",
        "\n",
        "In n-gram, **n = 1 is unigram**, **n = 2 is bigram**, **n = 3 is trigram**. \n",
        "\n",
        "After **n> 4**, refer directly to numbers, such as **4-gram, 5-gram**.\n",
        "\n",
        "gram is often used to compare sentence similarity, fuzzy query, sentence rationality, sentence correction, etc.\n"
      ]
    },
    {
      "cell_type": "markdown",
      "metadata": {
        "id": "_Xs2QJmjyuMa"
      },
      "source": [
        "The n-gram can represent the semantic association reflected by the positional relationship between words. Before explaining the n-gram, we derive from the initial sentence probability.\n",
        "\n",
        "Suppose a sentence S is an ordered arrangement of n words, and is written as: ![title](img/gif.gif)\n",
        "\n",
        "\n",
        "We will abbreviate it as W_ {1} ^ {n}, then the probability of this sentence is: ![title](img/ng.gif)\n",
        "\n",
        "For a single probability, which means the probability that the word appears in the case given by the previous word, we can use Bayesian formula to get: ![title](img/ng1.gif)\n",
        "\n",
        "The last item is the frequency in the corpus. However, long sentences or text after depunctuation may be very long, and the words that are too early have a small impact on the prediction of the word, so we use Markov's hypothesis that the probability of taking the word depends only on the front of the word the n-1 words, this is the idea n-gram model.\n",
        "\n",
        "So the above formula becomes: ![title](img/ng2.gif)\n"
      ]
    },
    {
      "cell_type": "markdown",
      "metadata": {
        "id": "xdPjrowYyuMb"
      },
      "source": [
        "#### Determination of N in N-gram\n",
        "\n",
        "To confirm the value of N. \"Language Modeling with Ngrams\" uses the indicator **Perplexity**. The smaller the indicator, the better the effect of a language model. \n",
        "\n",
        ">The article uses a Wall Street Journal database with a dictionary size of 19,979. The training set contains 38 million words and the test set contains 1.5 million words. \n",
        "\n",
        "For different N-grams, calculate their respective purplexity.\n",
        "\n",
        "![title](img/formula.png)\n",
        "\n",
        "The results show that Tri-gram's Perplexity is the smallest, so it works best.\n",
        "![title](img/result.png)"
      ]
    },
    {
      "cell_type": "markdown",
      "metadata": {
        "id": "U8dpWgzryuMb"
      },
      "source": [
        "### Unigram Implementation"
      ]
    },
    {
      "cell_type": "code",
      "execution_count": null,
      "metadata": {
        "id": "3YLq3kK2yuMc",
        "outputId": "ecfa1476-a33b-415f-94ca-a965f01e71e1"
      },
      "outputs": [
        {
          "name": "stdout",
          "output_type": "stream",
          "text": [
            "['I', ' ', 'am', ' ', 'going', ' ', 'to', ' ', 'the', ' ', 'United', ' ', 'States']\n"
          ]
        }
      ],
      "source": [
        "import jieba\n",
        " \n",
        "text = \"I am going to the United States\"\n",
        "cut = jieba.cut(text)\n",
        "sent = list(cut)\n",
        "print(sent)"
      ]
    },
    {
      "cell_type": "markdown",
      "metadata": {
        "id": "K-ye2OG2yuMe"
      },
      "source": [
        "### Bigram Implementation"
      ]
    },
    {
      "cell_type": "code",
      "execution_count": null,
      "metadata": {
        "id": "pktQcu1tyuMf",
        "outputId": "7f7072f7-d0a2-4ed3-c608-9adcc9d7974c"
      },
      "outputs": [
        {
          "name": "stdout",
          "output_type": "stream",
          "text": [
            "['I will', 'will go', 'go to', 'to United', 'United States']\n"
          ]
        }
      ],
      "source": [
        "Sent = \"I will go to United States\"\n",
        "lst_sent = Sent.split (\" \")\n",
        "of_bigrams_in = []\n",
        "for i in range(len(lst_sent)- 1):\n",
        "   of_bigrams_in.append(lst_sent[i]+ \" \" + lst_sent[ i + 1])\n",
        "   \n",
        "    \n",
        "print(of_bigrams_in)"
      ]
    },
    {
      "cell_type": "markdown",
      "metadata": {
        "id": "cFklgTn9yuMi"
      },
      "source": [
        "### Trigram Implementation"
      ]
    },
    {
      "cell_type": "code",
      "execution_count": null,
      "metadata": {
        "id": "Fo-_ANz0yuMj"
      },
      "outputs": [],
      "source": [
        "import re\n",
        "punctuation_pattern = re.compile(r\"\" \"[.,!? \"\"] \"\" \" )\n",
        "\n",
        "sent = \"I will go to United States\"\n",
        "no_punctuation_sent = re.sub(punctuation_pattern , \" \" , sent )\n",
        "lst_sent = no_punctuation_sent.split (\" \")\n",
        "trigram = []\n",
        "for i in range(len(lst_sent)- 2):\n",
        "   trigram.append(lst_sent[i] + \" \" + lst_sent[i + 1] + \" \" +lst_sent[i + 2])"
      ]
    },
    {
      "cell_type": "code",
      "execution_count": null,
      "metadata": {
        "id": "lKrjCaxTyuMl",
        "outputId": "3d7ac081-a5e8-42b6-a92d-8d487c6a0128"
      },
      "outputs": [
        {
          "data": {
            "text/plain": [
              "['I will go', 'will go to', 'go to United', 'to United States']"
            ]
          },
          "execution_count": 35,
          "metadata": {
            "tags": []
          },
          "output_type": "execute_result"
        }
      ],
      "source": [
        "trigram"
      ]
    },
    {
      "cell_type": "markdown",
      "metadata": {
        "id": "pvpDZKy1yuMq"
      },
      "source": [
        "## Co-occurrence matrix"
      ]
    },
    {
      "cell_type": "markdown",
      "metadata": {
        "id": "hu6-40ZJyuMq"
      },
      "source": [
        ">The co-occurrence matrix is ​​also expressed by considering the relationship between words in the corpus."
      ]
    },
    {
      "cell_type": "markdown",
      "metadata": {
        "id": "EISAu7YcyuMr"
      },
      "source": [
        ">A very important idea is that we think that the meaning of a word is closely related to the word next to it. This is where we can set a window (the size is generally 5 ~ 10). The size of the window below is 2, so in this window, the words that appear with rests are life, he, in, and peace. Then we use this co-occurrence relationship to generate word vectors.\n"
      ]
    },
    {
      "cell_type": "markdown",
      "metadata": {
        "id": "gvezPK9PyuMs"
      },
      "source": [
        "![title](img/concurrence.jpg)"
      ]
    },
    {
      "cell_type": "markdown",
      "metadata": {
        "id": "0YarWzEPyuMs"
      },
      "source": [
        "For example, our corpus now includes the following three documents:\n",
        "\n",
        "#### I like deep learning.\n",
        "\n",
        "#### I like NLP.\n",
        "\n",
        "#### I enjoy flying.\n",
        "\n",
        "As an example, **we set the window size to 1**, which means that **we only look at the word immediately surrounding a word**. At this point, you will get a symmetric matrix-co-occurrence matrix. Because in our corpus, **the number of times I and like appear as neighbors in the window at the same time is 2**, the value where I and like intersect in the table below is 2. \n",
        "\n",
        "In this way, the idea of turning words into vectors is done. Each row (or each column) of the co-occurrence matrix is a vector representation of the corresponding word."
      ]
    },
    {
      "cell_type": "markdown",
      "metadata": {
        "id": "b8RAM0SjyuMs"
      },
      "source": [
        "![title](img/concur.jpg)"
      ]
    },
    {
      "cell_type": "markdown",
      "metadata": {
        "id": "R2ke8lX0yuMt"
      },
      "source": [
        ">Although the Cocurrence matrix solves the relative position between words to some extent, this problem should be paid attention to. But it still faces dimensional disaster. \n",
        "\n",
        ">In other words, the vector representation of a word is too long. At this time, it is natural to think of some common dimensionality reduction methods such as SVD or PCA.\n"
      ]
    },
    {
      "cell_type": "markdown",
      "metadata": {
        "id": "DReSxvyOyuMt"
      },
      "source": [
        ">The selection of the window size is the same as determining n in the n-gram. The size of the matrix will also increase when the window is enlarged, so it still has a large amount of calculation in nature, and the SVD algorithm has a large amount of calculation. If the text set is very More, it is not operable."
      ]
    },
    {
      "cell_type": "markdown",
      "metadata": {
        "id": "_Rtzkmq9yuMu"
      },
      "source": [
        "# GloVe"
      ]
    },
    {
      "cell_type": "markdown",
      "metadata": {
        "id": "-Mw2xbiuyuMu"
      },
      "source": [
        "**GloVe is an unsupervised learning algorithm for obtaining vocabulary vector representations. The aggregated global word co-occurrence statistics from the corpus are trained and the resulting representations show interesting linear substructures of the word vector space.**\n",
        "\n",
        "\n",
        "Official website homepage address: <a href=\"https://nlp.stanford.edu/projects/glove/\" target=\"_blank\">https://nlp.stanford.edu/projects/glove/</a>\n",
        "\n",
        "Github: <a href=\"https://github.com/stanfordnlp/GloVe\" target=\"_blank\">https://github.com/stanfordnlp/GloVe</a>\n",
        "\n",
        "Paper download address: <a href=\"https://nlp.stanford.edu/pubs/glove.pdf\" target=\"_blank\">https://nlp.stanford.edu/pubs/glove.pdf</a>"
      ]
    },
    {
      "cell_type": "markdown",
      "metadata": {
        "id": "nbAVxWGHyuMx"
      },
      "source": [
        "#### GloVe word vector format\n",
        "\n",
        "GloVe is a type of Word embedding. The format of the GloVe word vector and word2vec is a little different from the Stanford open source code training. **The first line of the model trained by word2vec is: thesaurus size and dimensions, while gloVe does not**\n",
        "\n",
        "Word2vec training format:\n",
        "\n",
        "    Size Dimension\n",
        "\n",
        "    Word1 vector1\n",
        "    Word2 vector1\n",
        "    ....\n",
        "    WordN vectorN\n",
        "    \n",
        "\n",
        "GloVe training format:\n",
        "\n",
        "\n",
        "    Word1 vector1\n",
        "    Word2 vector1\n",
        "    ....\n",
        "    WordN vectorN"
      ]
    },
    {
      "cell_type": "markdown",
      "metadata": {
        "id": "Th6C8UCsyuMy"
      },
      "source": [
        ">Therefore, we use the model trained by Glove to add a line of Vocabulary Size in front, and the model is used in the same way as word2vec. The official website provides a lot of word vector models trained using thesaurus, which can be downloaded and used directly."
      ]
    },
    {
      "cell_type": "markdown",
      "metadata": {
        "id": "ru8DqzT0yuMz"
      },
      "source": [
        "![title](img/glove.png)"
      ]
    },
    {
      "cell_type": "markdown",
      "metadata": {
        "id": "xxi2Vzo2Rekr"
      },
      "source": [
        "## Glove Practical\n",
        "\n",
        "Download link: https://www.kaggle.com/datasets/danielwillgeorge/glove6b100dtxt"
      ]
    },
    {
      "cell_type": "code",
      "execution_count": null,
      "metadata": {
        "colab": {
          "base_uri": "https://localhost:8080/",
          "height": 241
        },
        "id": "G-FmZ8-nRiMZ",
        "outputId": "9972ed16-673c-4a6e-e4da-77c65fff5c26"
      },
      "outputs": [
        {
          "name": "stderr",
          "output_type": "stream",
          "text": [
            "[nltk_data] Downloading package stopwords to /root/nltk_data...\n",
            "[nltk_data]   Unzipping corpora/stopwords.zip.\n"
          ]
        },
        {
          "data": {
            "text/html": [
              "\n",
              "  <div id=\"df-b3e6f46f-db00-47e7-b1e7-1e5ce7eb0aa5\">\n",
              "    <div class=\"colab-df-container\">\n",
              "      <div>\n",
              "<style scoped>\n",
              "    .dataframe tbody tr th:only-of-type {\n",
              "        vertical-align: middle;\n",
              "    }\n",
              "\n",
              "    .dataframe tbody tr th {\n",
              "        vertical-align: top;\n",
              "    }\n",
              "\n",
              "    .dataframe thead th {\n",
              "        text-align: right;\n",
              "    }\n",
              "</style>\n",
              "<table border=\"1\" class=\"dataframe\">\n",
              "  <thead>\n",
              "    <tr style=\"text-align: right;\">\n",
              "      <th></th>\n",
              "      <th>tweet</th>\n",
              "      <th>clean_text</th>\n",
              "    </tr>\n",
              "  </thead>\n",
              "  <tbody>\n",
              "    <tr>\n",
              "      <th>0</th>\n",
              "      <td>@user when a father is dysfunctional and is s...</td>\n",
              "      <td>user father dysfunctional selfish drags kids ...</td>\n",
              "    </tr>\n",
              "    <tr>\n",
              "      <th>1</th>\n",
              "      <td>@user @user thanks for #lyft credit i can't us...</td>\n",
              "      <td>user user thanks lyft credit can t use cause ...</td>\n",
              "    </tr>\n",
              "    <tr>\n",
              "      <th>2</th>\n",
              "      <td>bihday your majesty</td>\n",
              "      <td>bihday majesty</td>\n",
              "    </tr>\n",
              "    <tr>\n",
              "      <th>3</th>\n",
              "      <td>#model   i love u take with u all the time in ...</td>\n",
              "      <td>model love u take u time ur</td>\n",
              "    </tr>\n",
              "    <tr>\n",
              "      <th>4</th>\n",
              "      <td>factsguide: society now    #motivation</td>\n",
              "      <td>factsguide society motivation</td>\n",
              "    </tr>\n",
              "  </tbody>\n",
              "</table>\n",
              "</div>\n",
              "      <button class=\"colab-df-convert\" onclick=\"convertToInteractive('df-b3e6f46f-db00-47e7-b1e7-1e5ce7eb0aa5')\"\n",
              "              title=\"Convert this dataframe to an interactive table.\"\n",
              "              style=\"display:none;\">\n",
              "        \n",
              "  <svg xmlns=\"http://www.w3.org/2000/svg\" height=\"24px\"viewBox=\"0 0 24 24\"\n",
              "       width=\"24px\">\n",
              "    <path d=\"M0 0h24v24H0V0z\" fill=\"none\"/>\n",
              "    <path d=\"M18.56 5.44l.94 2.06.94-2.06 2.06-.94-2.06-.94-.94-2.06-.94 2.06-2.06.94zm-11 1L8.5 8.5l.94-2.06 2.06-.94-2.06-.94L8.5 2.5l-.94 2.06-2.06.94zm10 10l.94 2.06.94-2.06 2.06-.94-2.06-.94-.94-2.06-.94 2.06-2.06.94z\"/><path d=\"M17.41 7.96l-1.37-1.37c-.4-.4-.92-.59-1.43-.59-.52 0-1.04.2-1.43.59L10.3 9.45l-7.72 7.72c-.78.78-.78 2.05 0 2.83L4 21.41c.39.39.9.59 1.41.59.51 0 1.02-.2 1.41-.59l7.78-7.78 2.81-2.81c.8-.78.8-2.07 0-2.86zM5.41 20L4 18.59l7.72-7.72 1.47 1.35L5.41 20z\"/>\n",
              "  </svg>\n",
              "      </button>\n",
              "      \n",
              "  <style>\n",
              "    .colab-df-container {\n",
              "      display:flex;\n",
              "      flex-wrap:wrap;\n",
              "      gap: 12px;\n",
              "    }\n",
              "\n",
              "    .colab-df-convert {\n",
              "      background-color: #E8F0FE;\n",
              "      border: none;\n",
              "      border-radius: 50%;\n",
              "      cursor: pointer;\n",
              "      display: none;\n",
              "      fill: #1967D2;\n",
              "      height: 32px;\n",
              "      padding: 0 0 0 0;\n",
              "      width: 32px;\n",
              "    }\n",
              "\n",
              "    .colab-df-convert:hover {\n",
              "      background-color: #E2EBFA;\n",
              "      box-shadow: 0px 1px 2px rgba(60, 64, 67, 0.3), 0px 1px 3px 1px rgba(60, 64, 67, 0.15);\n",
              "      fill: #174EA6;\n",
              "    }\n",
              "\n",
              "    [theme=dark] .colab-df-convert {\n",
              "      background-color: #3B4455;\n",
              "      fill: #D2E3FC;\n",
              "    }\n",
              "\n",
              "    [theme=dark] .colab-df-convert:hover {\n",
              "      background-color: #434B5C;\n",
              "      box-shadow: 0px 1px 3px 1px rgba(0, 0, 0, 0.15);\n",
              "      filter: drop-shadow(0px 1px 2px rgba(0, 0, 0, 0.3));\n",
              "      fill: #FFFFFF;\n",
              "    }\n",
              "  </style>\n",
              "\n",
              "      <script>\n",
              "        const buttonEl =\n",
              "          document.querySelector('#df-b3e6f46f-db00-47e7-b1e7-1e5ce7eb0aa5 button.colab-df-convert');\n",
              "        buttonEl.style.display =\n",
              "          google.colab.kernel.accessAllowed ? 'block' : 'none';\n",
              "\n",
              "        async function convertToInteractive(key) {\n",
              "          const element = document.querySelector('#df-b3e6f46f-db00-47e7-b1e7-1e5ce7eb0aa5');\n",
              "          const dataTable =\n",
              "            await google.colab.kernel.invokeFunction('convertToInteractive',\n",
              "                                                     [key], {});\n",
              "          if (!dataTable) return;\n",
              "\n",
              "          const docLinkHtml = 'Like what you see? Visit the ' +\n",
              "            '<a target=\"_blank\" href=https://colab.research.google.com/notebooks/data_table.ipynb>data table notebook</a>'\n",
              "            + ' to learn more about interactive tables.';\n",
              "          element.innerHTML = '';\n",
              "          dataTable['output_type'] = 'display_data';\n",
              "          await google.colab.output.renderOutput(dataTable, element);\n",
              "          const docLink = document.createElement('div');\n",
              "          docLink.innerHTML = docLinkHtml;\n",
              "          element.appendChild(docLink);\n",
              "        }\n",
              "      </script>\n",
              "    </div>\n",
              "  </div>\n",
              "  "
            ],
            "text/plain": [
              "                                               tweet  \\\n",
              "0   @user when a father is dysfunctional and is s...   \n",
              "1  @user @user thanks for #lyft credit i can't us...   \n",
              "2                                bihday your majesty   \n",
              "3  #model   i love u take with u all the time in ...   \n",
              "4             factsguide: society now    #motivation   \n",
              "\n",
              "                                          clean_text  \n",
              "0   user father dysfunctional selfish drags kids ...  \n",
              "1   user user thanks lyft credit can t use cause ...  \n",
              "2                                     bihday majesty  \n",
              "3                       model love u take u time ur   \n",
              "4                      factsguide society motivation  "
            ]
          },
          "execution_count": 4,
          "metadata": {},
          "output_type": "execute_result"
        }
      ],
      "source": [
        "import pandas as pd\n",
        "import string\n",
        "from nltk.corpus import stopwords\n",
        "import nltk\n",
        "nltk.download('stopwords')\n",
        "\n",
        "df = pd.read_csv('data/Twitter Sentiments.csv')\n",
        "# drop the columns\n",
        "df = df.drop(columns=['id', 'label'], axis=1)\n",
        "\n",
        "df['clean_text'] = df['tweet'].str.lower()\n",
        "\n",
        "STOPWORDS = set(stopwords.words('english'))\n",
        "def remove_stopwords(text):\n",
        "    return \" \".join([word for word in text.split() if word not in STOPWORDS])\n",
        "df['clean_text'] = df['clean_text'].apply(lambda x: remove_stopwords(x))\n",
        "\n",
        "import re\n",
        "def remove_spl_chars(text):\n",
        "    text = re.sub('[^a-zA-Z0-9]', ' ', text)\n",
        "    text = re.sub('\\s+', ' ', text)\n",
        "    return text\n",
        "df['clean_text'] = df['clean_text'].apply(lambda x: remove_spl_chars(x))\n",
        "\n",
        "df.head()"
      ]
    },
    {
      "cell_type": "code",
      "execution_count": null,
      "metadata": {
        "id": "FXstAbHySV9t"
      },
      "outputs": [],
      "source": [
        "from tensorflow import keras\n",
        "from keras.preprocessing.text import Tokenizer\n",
        "from keras_preprocessing.sequence import pad_sequences\n",
        "import numpy as np"
      ]
    },
    {
      "cell_type": "code",
      "execution_count": null,
      "metadata": {
        "colab": {
          "base_uri": "https://localhost:8080/"
        },
        "id": "aNFh5QAWTbP-",
        "outputId": "0a3520a7-f68a-4b0c-9650-f57ae95a6479"
      },
      "outputs": [
        {
          "data": {
            "text/plain": [
              "39085"
            ]
          },
          "execution_count": 11,
          "metadata": {},
          "output_type": "execute_result"
        }
      ],
      "source": [
        "# tokenize text\n",
        "tokenizer = Tokenizer()\n",
        "tokenizer.fit_on_texts(df['clean_text'])\n",
        "\n",
        "word_index = tokenizer.word_index\n",
        "vocab_size = len(word_index)\n",
        "vocab_size"
      ]
    },
    {
      "cell_type": "code",
      "execution_count": null,
      "metadata": {
        "colab": {
          "base_uri": "https://localhost:8080/"
        },
        "id": "T0itnNHVTbSo",
        "outputId": "f5f91e1f-94af-4fe6-dc20-84103671197d"
      },
      "outputs": [
        {
          "data": {
            "text/plain": [
              "131"
            ]
          },
          "execution_count": 12,
          "metadata": {},
          "output_type": "execute_result"
        }
      ],
      "source": [
        "\n",
        "max(len(data) for data in df['clean_text'])"
      ]
    },
    {
      "cell_type": "code",
      "execution_count": null,
      "metadata": {
        "id": "E0xRnDA6TbUX"
      },
      "outputs": [],
      "source": [
        "# padding text data\n",
        "sequences = tokenizer.texts_to_sequences(df['clean_text'])\n",
        "padded_seq = pad_sequences(sequences, maxlen=131, padding='post', truncating='post')"
      ]
    },
    {
      "cell_type": "code",
      "execution_count": null,
      "metadata": {
        "colab": {
          "base_uri": "https://localhost:8080/"
        },
        "id": "ZS6tkMNJTinl",
        "outputId": "68222cdc-fb4f-4b8e-e3c5-38efc967a15a"
      },
      "outputs": [
        {
          "data": {
            "text/plain": [
              "array([    1,    28, 15330,  2630,  6365,   184,  7786,   385,     0,\n",
              "           0,     0,     0,     0,     0,     0,     0,     0,     0,\n",
              "           0,     0,     0,     0,     0,     0,     0,     0,     0,\n",
              "           0,     0,     0,     0,     0,     0,     0,     0,     0,\n",
              "           0,     0,     0,     0,     0,     0,     0,     0,     0,\n",
              "           0,     0,     0,     0,     0,     0,     0,     0,     0,\n",
              "           0,     0,     0,     0,     0,     0,     0,     0,     0,\n",
              "           0,     0,     0,     0,     0,     0,     0,     0,     0,\n",
              "           0,     0,     0,     0,     0,     0,     0,     0,     0,\n",
              "           0,     0,     0,     0,     0,     0,     0,     0,     0,\n",
              "           0,     0,     0,     0,     0,     0,     0,     0,     0,\n",
              "           0,     0,     0,     0,     0,     0,     0,     0,     0,\n",
              "           0,     0,     0,     0,     0,     0,     0,     0,     0,\n",
              "           0,     0,     0,     0,     0,     0,     0,     0,     0,\n",
              "           0,     0,     0,     0,     0], dtype=int32)"
            ]
          },
          "execution_count": 14,
          "metadata": {},
          "output_type": "execute_result"
        }
      ],
      "source": [
        "padded_seq[0]"
      ]
    },
    {
      "cell_type": "code",
      "execution_count": null,
      "metadata": {
        "id": "2c0cSymbTivM"
      },
      "outputs": [],
      "source": [
        "# create embedding index\n",
        "embedding_index = {}\n",
        "with open('glove-model/glove.6B.100d.txt', encoding='utf-8') as f:\n",
        "    for line in f:\n",
        "        values = line.split()\n",
        "        word = values[0]\n",
        "        coefs = np.asarray(values[1:], dtype='float32')\n",
        "        embedding_index[word] = coefs"
      ]
    },
    {
      "cell_type": "code",
      "execution_count": null,
      "metadata": {
        "colab": {
          "base_uri": "https://localhost:8080/"
        },
        "id": "RMguG8ffT-C1",
        "outputId": "d1538664-4a97-4f83-8aef-e70af8ff3678"
      },
      "outputs": [
        {
          "data": {
            "text/plain": [
              "array([-0.030769 ,  0.11993  ,  0.53909  , -0.43696  , -0.73937  ,\n",
              "       -0.15345  ,  0.081126 , -0.38559  , -0.68797  , -0.41632  ,\n",
              "       -0.13183  , -0.24922  ,  0.441    ,  0.085919 ,  0.20871  ,\n",
              "       -0.063582 ,  0.062228 , -0.051234 , -0.13398  ,  1.1418   ,\n",
              "        0.036526 ,  0.49029  , -0.24567  , -0.412    ,  0.12349  ,\n",
              "        0.41336  , -0.48397  , -0.54243  , -0.27787  , -0.26015  ,\n",
              "       -0.38485  ,  0.78656  ,  0.1023   , -0.20712  ,  0.40751  ,\n",
              "        0.32026  , -0.51052  ,  0.48362  , -0.0099498, -0.38685  ,\n",
              "        0.034975 , -0.167    ,  0.4237   , -0.54164  , -0.30323  ,\n",
              "       -0.36983  ,  0.082836 , -0.52538  , -0.064531 , -1.398    ,\n",
              "       -0.14873  , -0.35327  , -0.1118   ,  1.0912   ,  0.095864 ,\n",
              "       -2.8129   ,  0.45238  ,  0.46213  ,  1.6012   , -0.20837  ,\n",
              "       -0.27377  ,  0.71197  , -1.0754   , -0.046974 ,  0.67479  ,\n",
              "       -0.065839 ,  0.75824  ,  0.39405  ,  0.15507  , -0.64719  ,\n",
              "        0.32796  , -0.031748 ,  0.52899  , -0.43886  ,  0.67405  ,\n",
              "        0.42136  , -0.11981  , -0.21777  , -0.29756  , -0.1351   ,\n",
              "        0.59898  ,  0.46529  , -0.58258  , -0.02323  , -1.5442   ,\n",
              "        0.01901  , -0.015877 ,  0.024499 , -0.58017  , -0.67659  ,\n",
              "       -0.040379 , -0.44043  ,  0.083292 ,  0.20035  , -0.75499  ,\n",
              "        0.16918  , -0.26573  , -0.52878  ,  0.17584  ,  1.065    ],\n",
              "      dtype=float32)"
            ]
          },
          "execution_count": 16,
          "metadata": {},
          "output_type": "execute_result"
        }
      ],
      "source": [
        "embedding_index['good']"
      ]
    },
    {
      "cell_type": "code",
      "execution_count": null,
      "metadata": {
        "id": "K9Qlj-k9T-FX"
      },
      "outputs": [],
      "source": [
        "# create embedding matrix\n",
        "embedding_matrix = np.zeros((vocab_size+1, 100))\n",
        "for word, i in word_index.items():\n",
        "    embedding_vector = embedding_index.get(word)\n",
        "    if embedding_vector is not None:\n",
        "        embedding_matrix[i] = embedding_vector"
      ]
    },
    {
      "cell_type": "code",
      "execution_count": null,
      "metadata": {
        "colab": {
          "base_uri": "https://localhost:8080/"
        },
        "id": "BHJ1wihjT-Hf",
        "outputId": "7be1321e-8247-4808-bd44-4cf8433266fa"
      },
      "outputs": [
        {
          "data": {
            "text/plain": [
              "(39086, 100)"
            ]
          },
          "execution_count": 18,
          "metadata": {},
          "output_type": "execute_result"
        }
      ],
      "source": [
        "embedding_matrix.shape"
      ]
    },
    {
      "cell_type": "markdown",
      "metadata": {
        "id": "_66s0LDu-mqx"
      },
      "source": [
        "#Word2Vec"
      ]
    },
    {
      "cell_type": "code",
      "execution_count": 3,
      "metadata": {
        "colab": {
          "base_uri": "https://localhost:8080/"
        },
        "id": "YYhFjFod_dsa",
        "outputId": "3f32ccf8-d6be-4850-c569-972e317215c8"
      },
      "outputs": [
        {
          "output_type": "stream",
          "name": "stdout",
          "text": [
            "Mounted at /content/drive\n"
          ]
        }
      ],
      "source": [
        "from google.colab import drive\n",
        "drive.mount('/content/drive')"
      ]
    },
    {
      "cell_type": "code",
      "execution_count": 4,
      "metadata": {
        "colab": {
          "base_uri": "https://localhost:8080/"
        },
        "id": "hrBiObL9_h_T",
        "outputId": "8883e767-e302-4435-d6fb-133fb346ff3f"
      },
      "outputs": [
        {
          "output_type": "stream",
          "name": "stdout",
          "text": [
            "/content/drive/MyDrive/Classes/NLP\n"
          ]
        }
      ],
      "source": [
        "%cd /content/drive/MyDrive/Classes/NLP"
      ]
    },
    {
      "cell_type": "code",
      "execution_count": 24,
      "metadata": {
        "id": "qtb9tClH_L8g"
      },
      "outputs": [],
      "source": [
        "import numpy as np\n",
        "import pandas as pd\n",
        "import gensim\n",
        "import os\n",
        "%matplotlib inline"
      ]
    },
    {
      "cell_type": "code",
      "execution_count": 2,
      "metadata": {
        "colab": {
          "base_uri": "https://localhost:8080/"
        },
        "id": "lPduM4q6Demo",
        "outputId": "0672f343-c4f1-48f6-e87f-e792f4386597"
      },
      "outputs": [
        {
          "output_type": "stream",
          "name": "stdout",
          "text": [
            "Looking in indexes: https://pypi.org/simple, https://us-python.pkg.dev/colab-wheels/public/simple/\n",
            "Requirement already satisfied: gensim in /usr/local/lib/python3.10/dist-packages (4.3.1)\n",
            "Requirement already satisfied: numpy>=1.18.5 in /usr/local/lib/python3.10/dist-packages (from gensim) (1.22.4)\n",
            "Requirement already satisfied: scipy>=1.7.0 in /usr/local/lib/python3.10/dist-packages (from gensim) (1.10.1)\n",
            "Requirement already satisfied: smart-open>=1.8.1 in /usr/local/lib/python3.10/dist-packages (from gensim) (6.3.0)\n"
          ]
        }
      ],
      "source": [
        "!pip install --upgrade gensim --user"
      ]
    },
    {
      "cell_type": "code",
      "execution_count": 5,
      "metadata": {
        "colab": {
          "base_uri": "https://localhost:8080/"
        },
        "id": "DPrW0SoN_W2q",
        "outputId": "5850d826-a019-4462-854d-071f738304db"
      },
      "outputs": [
        {
          "output_type": "stream",
          "name": "stderr",
          "text": [
            "[nltk_data] Downloading package punkt to /root/nltk_data...\n",
            "[nltk_data]   Unzipping tokenizers/punkt.zip.\n"
          ]
        }
      ],
      "source": [
        "from nltk import sent_tokenize\n",
        "from gensim.utils import simple_preprocess\n",
        "import nltk\n",
        "nltk.download('punkt')\n",
        "\n",
        "\n",
        "story = []\n",
        "for filename in os.listdir('data'):\n",
        "    if filename == '.ipynb_checkpoints':\n",
        "      pass\n",
        "    f = open(os.path.join('data',filename))\n",
        "    corpus = f.read()\n",
        "    raw_sent = sent_tokenize(corpus)\n",
        "    for sent in raw_sent:\n",
        "        story.append(simple_preprocess(sent))"
      ]
    },
    {
      "cell_type": "code",
      "execution_count": 7,
      "metadata": {
        "id": "EXvdA0KjCO4y"
      },
      "outputs": [],
      "source": [
        "model = gensim.models.Word2Vec(\n",
        "    window=10,\n",
        "    min_count=2\n",
        ")"
      ]
    },
    {
      "cell_type": "code",
      "execution_count": 8,
      "metadata": {
        "id": "uyEf0dk9Cbja"
      },
      "outputs": [],
      "source": [
        "model.build_vocab(story)"
      ]
    },
    {
      "cell_type": "code",
      "execution_count": 9,
      "metadata": {
        "colab": {
          "base_uri": "https://localhost:8080/"
        },
        "id": "HV5QuD4dCdOb",
        "outputId": "83b6d3ef-ea05-49f0-c830-06f74c717379"
      },
      "outputs": [
        {
          "output_type": "execute_result",
          "data": {
            "text/plain": [
              "(1846129, 2392815)"
            ]
          },
          "metadata": {},
          "execution_count": 9
        }
      ],
      "source": [
        "model.train(story, total_examples=model.corpus_count, epochs=model.epochs)"
      ]
    },
    {
      "cell_type": "code",
      "execution_count": 11,
      "metadata": {
        "colab": {
          "base_uri": "https://localhost:8080/"
        },
        "id": "NX_APj3UCfFy",
        "outputId": "63a65dad-8b34-4548-dfe4-f1b66885af66"
      },
      "outputs": [
        {
          "output_type": "execute_result",
          "data": {
            "text/plain": [
              "[('drogo', 0.9909255504608154),\n",
              " ('ser', 0.9885885715484619),\n",
              " ('terrible', 0.9881312251091003),\n",
              " ('ghost', 0.9878972768783569),\n",
              " ('wings', 0.9870500564575195),\n",
              " ('nodded', 0.9869809746742249),\n",
              " ('targaryen', 0.9869610667228699),\n",
              " ('laughed', 0.9867749214172363),\n",
              " ('voices', 0.9862357974052429),\n",
              " ('mp', 0.9861000180244446)]"
            ]
          },
          "metadata": {},
          "execution_count": 11
        }
      ],
      "source": [
        "model.wv.most_similar('daenerys')"
      ]
    },
    {
      "cell_type": "code",
      "execution_count": 12,
      "metadata": {
        "colab": {
          "base_uri": "https://localhost:8080/",
          "height": 54
        },
        "id": "9h47s2ccCh1S",
        "outputId": "f2ecf4fd-0c63-4701-cf04-14bd59e493c5"
      },
      "outputs": [
        {
          "output_type": "stream",
          "name": "stderr",
          "text": [
            "WARNING:gensim.models.keyedvectors:vectors for words {'rikon'} are not present in the model, ignoring these words\n"
          ]
        },
        {
          "output_type": "execute_result",
          "data": {
            "text/plain": [
              "'bran'"
            ],
            "application/vnd.google.colaboratory.intrinsic+json": {
              "type": "string"
            }
          },
          "metadata": {},
          "execution_count": 12
        }
      ],
      "source": [
        "\n",
        "model.wv.doesnt_match(['jon','rikon','robb','arya','sansa','bran'])"
      ]
    },
    {
      "cell_type": "code",
      "execution_count": 13,
      "metadata": {
        "colab": {
          "base_uri": "https://localhost:8080/"
        },
        "id": "HYX24SHWClIi",
        "outputId": "82aac4de-db49-4f87-f848-216266797f74"
      },
      "outputs": [
        {
          "output_type": "execute_result",
          "data": {
            "text/plain": [
              "0.9920498"
            ]
          },
          "metadata": {},
          "execution_count": 13
        }
      ],
      "source": [
        "model.wv.similarity('arya','sansa')"
      ]
    },
    {
      "cell_type": "code",
      "execution_count": 14,
      "metadata": {
        "colab": {
          "base_uri": "https://localhost:8080/"
        },
        "id": "nAOJ35vmDU-C",
        "outputId": "fe05a56d-db9d-40eb-82c7-f6208b050405"
      },
      "outputs": [
        {
          "output_type": "execute_result",
          "data": {
            "text/plain": [
              "array([[-1.3390839e-01,  1.6874155e-01,  8.1466369e-02, ...,\n",
              "        -4.6863942e-03,  4.9712926e-02, -3.9094961e-03],\n",
              "       [-8.1962883e-02,  1.5473525e-01, -3.5812701e-03, ...,\n",
              "         1.3249670e-01, -6.7388333e-02, -1.0332990e-02],\n",
              "       [-5.3059258e-02, -6.7440153e-05, -8.1682749e-02, ...,\n",
              "         2.9323313e-02,  6.1654344e-02, -2.4622726e-01],\n",
              "       ...,\n",
              "       [-7.6784864e-02,  2.3744838e-01,  3.0274604e-02, ...,\n",
              "         4.2156847e-03,  4.0222775e-02, -2.3918739e-02],\n",
              "       [-1.2853453e-01,  7.4367501e-02, -1.7951490e-02, ...,\n",
              "         7.7810772e-02,  2.2502011e-03, -4.5978472e-02],\n",
              "       [-4.1974030e-02,  2.1431313e-01,  8.8712528e-02, ...,\n",
              "        -1.6050810e-02, -8.5025979e-03, -6.4293049e-02]], dtype=float32)"
            ]
          },
          "metadata": {},
          "execution_count": 14
        }
      ],
      "source": [
        "model.wv.get_normed_vectors()"
      ]
    },
    {
      "cell_type": "code",
      "execution_count": 15,
      "metadata": {
        "colab": {
          "base_uri": "https://localhost:8080/"
        },
        "id": "AOQlWPBODXrk",
        "outputId": "1d0be084-1cdb-4dcc-e163-e5dc364f4ca5"
      },
      "outputs": [
        {
          "output_type": "execute_result",
          "data": {
            "text/plain": [
              "(17071, 100)"
            ]
          },
          "metadata": {},
          "execution_count": 15
        }
      ],
      "source": [
        "model.wv.get_normed_vectors().shape"
      ]
    },
    {
      "cell_type": "code",
      "execution_count": 16,
      "metadata": {
        "id": "qb2xGZsXC9JB"
      },
      "outputs": [],
      "source": [
        "\n",
        "y = model.wv.index_to_key"
      ]
    },
    {
      "cell_type": "code",
      "execution_count": 17,
      "metadata": {
        "id": "rpX0bPdOCpeK"
      },
      "outputs": [],
      "source": [
        "\n",
        "from sklearn.decomposition import PCA"
      ]
    },
    {
      "cell_type": "code",
      "execution_count": 18,
      "metadata": {
        "id": "4NFJlN3aCrqx"
      },
      "outputs": [],
      "source": [
        "\n",
        "pca = PCA(n_components=3)"
      ]
    },
    {
      "cell_type": "code",
      "execution_count": 19,
      "metadata": {
        "id": "wh4e5ej5C0_a"
      },
      "outputs": [],
      "source": [
        "\n",
        "X = pca.fit_transform(model.wv.get_normed_vectors())"
      ]
    },
    {
      "cell_type": "code",
      "execution_count": 20,
      "metadata": {
        "colab": {
          "base_uri": "https://localhost:8080/"
        },
        "id": "HgQROFJoC2Oy",
        "outputId": "c6f776ad-b0e7-4977-a5a4-473bb96b8f0b"
      },
      "outputs": [
        {
          "output_type": "execute_result",
          "data": {
            "text/plain": [
              "array([[ 0.12869117,  0.39395857, -0.20584886],\n",
              "       [ 0.37050045,  0.13583212,  0.56324524],\n",
              "       [ 0.53623   ,  0.09705935,  0.10414639],\n",
              "       ...,\n",
              "       [-0.13982233, -0.10835855, -0.02806567],\n",
              "       [ 0.509196  ,  0.2820545 , -0.00373993],\n",
              "       [-0.28554198,  0.07071567, -0.02187601]], dtype=float32)"
            ]
          },
          "metadata": {},
          "execution_count": 20
        }
      ],
      "source": [
        "X"
      ]
    },
    {
      "cell_type": "code",
      "execution_count": 21,
      "metadata": {
        "colab": {
          "base_uri": "https://localhost:8080/"
        },
        "id": "ZPNmneT7DQeJ",
        "outputId": "1cccb478-4b65-4acd-bca6-7fe63fe4879b"
      },
      "outputs": [
        {
          "output_type": "execute_result",
          "data": {
            "text/plain": [
              "(17071, 3)"
            ]
          },
          "metadata": {},
          "execution_count": 21
        }
      ],
      "source": [
        "X.shape"
      ]
    },
    {
      "cell_type": "code",
      "execution_count": 22,
      "metadata": {
        "colab": {
          "base_uri": "https://localhost:8080/",
          "height": 542
        },
        "id": "yh46pgKSDjOZ",
        "outputId": "4cc1396f-aceb-4e7a-944d-151876054b3d"
      },
      "outputs": [
        {
          "output_type": "display_data",
          "data": {
            "text/html": [
              "<html>\n",
              "<head><meta charset=\"utf-8\" /></head>\n",
              "<body>\n",
              "    <div>            <script src=\"https://cdnjs.cloudflare.com/ajax/libs/mathjax/2.7.5/MathJax.js?config=TeX-AMS-MML_SVG\"></script><script type=\"text/javascript\">if (window.MathJax && window.MathJax.Hub && window.MathJax.Hub.Config) {window.MathJax.Hub.Config({SVG: {font: \"STIX-Web\"}});}</script>                <script type=\"text/javascript\">window.PlotlyConfig = {MathJaxConfig: 'local'};</script>\n",
              "        <script src=\"https://cdn.plot.ly/plotly-2.18.2.min.js\"></script>                <div id=\"5ca37eee-5b61-4c39-b016-d8720a1cdf8e\" class=\"plotly-graph-div\" style=\"height:525px; width:100%;\"></div>            <script type=\"text/javascript\">                                    window.PLOTLYENV=window.PLOTLYENV || {};                                    if (document.getElementById(\"5ca37eee-5b61-4c39-b016-d8720a1cdf8e\")) {                    Plotly.newPlot(                        \"5ca37eee-5b61-4c39-b016-d8720a1cdf8e\",                        [{\"hovertemplate\":\"color=ned<br>0=%{x}<br>1=%{y}<br>2=%{z}<extra></extra>\",\"legendgroup\":\"ned\",\"marker\":{\"color\":\"#636efa\",\"symbol\":\"circle\"},\"mode\":\"markers\",\"name\":\"ned\",\"scene\":\"scene\",\"showlegend\":true,\"x\":[0.32696273922920227],\"y\":[-0.2259291261434555],\"z\":[0.15571799874305725],\"type\":\"scatter3d\"},{\"hovertemplate\":\"color=bran<br>0=%{x}<br>1=%{y}<br>2=%{z}<extra></extra>\",\"legendgroup\":\"bran\",\"marker\":{\"color\":\"#EF553B\",\"symbol\":\"circle\"},\"mode\":\"markers\",\"name\":\"bran\",\"scene\":\"scene\",\"showlegend\":true,\"x\":[0.3731277883052826],\"y\":[-0.1936761885881424],\"z\":[0.18365631997585297],\"type\":\"scatter3d\"},{\"hovertemplate\":\"color=boy<br>0=%{x}<br>1=%{y}<br>2=%{z}<extra></extra>\",\"legendgroup\":\"boy\",\"marker\":{\"color\":\"#00cc96\",\"symbol\":\"circle\"},\"mode\":\"markers\",\"name\":\"boy\",\"scene\":\"scene\",\"showlegend\":true,\"x\":[0.06235220283269882],\"y\":[-0.007417488843202591],\"z\":[0.08450976759195328],\"type\":\"scatter3d\"},{\"hovertemplate\":\"color=makes<br>0=%{x}<br>1=%{y}<br>2=%{z}<extra></extra>\",\"legendgroup\":\"makes\",\"marker\":{\"color\":\"#ab63fa\",\"symbol\":\"circle\"},\"mode\":\"markers\",\"name\":\"makes\",\"scene\":\"scene\",\"showlegend\":true,\"x\":[0.45442691445350647],\"y\":[-0.004525188822299242],\"z\":[-0.3878946304321289],\"type\":\"scatter3d\"},{\"hovertemplate\":\"color=away<br>0=%{x}<br>1=%{y}<br>2=%{z}<extra></extra>\",\"legendgroup\":\"away\",\"marker\":{\"color\":\"#FFA15A\",\"symbol\":\"circle\"},\"mode\":\"markers\",\"name\":\"away\",\"scene\":\"scene\",\"showlegend\":true,\"x\":[0.3142038583755493],\"y\":[-0.13078589737415314],\"z\":[0.1905485838651657],\"type\":\"scatter3d\"},{\"hovertemplate\":\"color=around<br>0=%{x}<br>1=%{y}<br>2=%{z}<extra></extra>\",\"legendgroup\":\"around\",\"marker\":{\"color\":\"#19d3f3\",\"symbol\":\"circle\"},\"mode\":\"markers\",\"name\":\"around\",\"scene\":\"scene\",\"showlegend\":true,\"x\":[0.3258761167526245],\"y\":[-0.12316709756851196],\"z\":[0.3962787985801697],\"type\":\"scatter3d\"},{\"hovertemplate\":\"color=gt<br>0=%{x}<br>1=%{y}<br>2=%{z}<extra></extra>\",\"legendgroup\":\"gt\",\"marker\":{\"color\":\"#FF6692\",\"symbol\":\"circle\"},\"mode\":\"markers\",\"name\":\"gt\",\"scene\":\"scene\",\"showlegend\":true,\"x\":[-0.19110949337482452],\"y\":[0.312893807888031],\"z\":[-0.16428324580192566],\"type\":\"scatter3d\"},{\"hovertemplate\":\"color=selfie<br>0=%{x}<br>1=%{y}<br>2=%{z}<extra></extra>\",\"legendgroup\":\"selfie\",\"marker\":{\"color\":\"#B6E880\",\"symbol\":\"circle\"},\"mode\":\"markers\",\"name\":\"selfie\",\"scene\":\"scene\",\"showlegend\":true,\"x\":[-0.4098019301891327],\"y\":[0.4221676290035248],\"z\":[-0.2149748057126999],\"type\":\"scatter3d\"},{\"hovertemplate\":\"color=fathers<br>0=%{x}<br>1=%{y}<br>2=%{z}<extra></extra>\",\"legendgroup\":\"fathers\",\"marker\":{\"color\":\"#FF97FF\",\"symbol\":\"circle\"},\"mode\":\"markers\",\"name\":\"fathers\",\"scene\":\"scene\",\"showlegend\":true,\"x\":[0.10306750237941742],\"y\":[0.423231840133667],\"z\":[0.22824658453464508],\"type\":\"scatter3d\"},{\"hovertemplate\":\"color=most<br>0=%{x}<br>1=%{y}<br>2=%{z}<extra></extra>\",\"legendgroup\":\"most\",\"marker\":{\"color\":\"#FECB52\",\"symbol\":\"circle\"},\"mode\":\"markers\",\"name\":\"most\",\"scene\":\"scene\",\"showlegend\":true,\"x\":[0.1790826916694641],\"y\":[-0.05125805735588074],\"z\":[0.16550365090370178],\"type\":\"scatter3d\"},{\"hovertemplate\":\"color=king<br>0=%{x}<br>1=%{y}<br>2=%{z}<extra></extra>\",\"legendgroup\":\"king\",\"marker\":{\"color\":\"#636efa\",\"symbol\":\"circle\"},\"mode\":\"markers\",\"name\":\"king\",\"scene\":\"scene\",\"showlegend\":true,\"x\":[0.24864351749420166],\"y\":[-0.07241710275411606],\"z\":[0.4308457374572754],\"type\":\"scatter3d\"},{\"hovertemplate\":\"color=altwaystoheal<br>0=%{x}<br>1=%{y}<br>2=%{z}<extra></extra>\",\"legendgroup\":\"altwaystoheal\",\"marker\":{\"color\":\"#EF553B\",\"symbol\":\"circle\"},\"mode\":\"markers\",\"name\":\"altwaystoheal\",\"scene\":\"scene\",\"showlegend\":true,\"x\":[-0.10307785123586655],\"y\":[0.05358373746275902],\"z\":[-0.25192949175834656],\"type\":\"scatter3d\"},{\"hovertemplate\":\"color=everyone<br>0=%{x}<br>1=%{y}<br>2=%{z}<extra></extra>\",\"legendgroup\":\"everyone\",\"marker\":{\"color\":\"#00cc96\",\"symbol\":\"circle\"},\"mode\":\"markers\",\"name\":\"everyone\",\"scene\":\"scene\",\"showlegend\":true,\"x\":[0.19220083951950073],\"y\":[0.0948648452758789],\"z\":[-0.14240817725658417],\"type\":\"scatter3d\"},{\"hovertemplate\":\"color=years<br>0=%{x}<br>1=%{y}<br>2=%{z}<extra></extra>\",\"legendgroup\":\"years\",\"marker\":{\"color\":\"#ab63fa\",\"symbol\":\"circle\"},\"mode\":\"markers\",\"name\":\"years\",\"scene\":\"scene\",\"showlegend\":true,\"x\":[0.3535299003124237],\"y\":[0.0018052386585623026],\"z\":[0.2695699632167816],\"type\":\"scatter3d\"},{\"hovertemplate\":\"color=face<br>0=%{x}<br>1=%{y}<br>2=%{z}<extra></extra>\",\"legendgroup\":\"face\",\"marker\":{\"color\":\"#FFA15A\",\"symbol\":\"circle\"},\"mode\":\"markers\",\"name\":\"face\",\"scene\":\"scene\",\"showlegend\":true,\"x\":[0.06385179609060287],\"y\":[-0.06730340421199799],\"z\":[0.2317562997341156],\"type\":\"scatter3d\"},{\"hovertemplate\":\"color=via<br>0=%{x}<br>1=%{y}<br>2=%{z}<extra></extra>\",\"legendgroup\":\"via\",\"marker\":{\"color\":\"#19d3f3\",\"symbol\":\"circle\"},\"mode\":\"markers\",\"name\":\"via\",\"scene\":\"scene\",\"showlegend\":true,\"x\":[-0.16110658645629883],\"y\":[0.060280315577983856],\"z\":[-0.1703951358795166],\"type\":\"scatter3d\"},{\"hovertemplate\":\"color=white<br>0=%{x}<br>1=%{y}<br>2=%{z}<extra></extra>\",\"legendgroup\":\"white\",\"marker\":{\"color\":\"#FF6692\",\"symbol\":\"circle\"},\"mode\":\"markers\",\"name\":\"white\",\"scene\":\"scene\",\"showlegend\":true,\"x\":[-0.0651530772447586],\"y\":[-0.10828671604394913],\"z\":[0.06033489108085632],\"type\":\"scatter3d\"},{\"hovertemplate\":\"color=might<br>0=%{x}<br>1=%{y}<br>2=%{z}<extra></extra>\",\"legendgroup\":\"might\",\"marker\":{\"color\":\"#B6E880\",\"symbol\":\"circle\"},\"mode\":\"markers\",\"name\":\"might\",\"scene\":\"scene\",\"showlegend\":true,\"x\":[0.4704250991344452],\"y\":[-0.0974101573228836],\"z\":[-0.5359981060028076],\"type\":\"scatter3d\"},{\"hovertemplate\":\"color=pay<br>0=%{x}<br>1=%{y}<br>2=%{z}<extra></extra>\",\"legendgroup\":\"pay\",\"marker\":{\"color\":\"#FF97FF\",\"symbol\":\"circle\"},\"mode\":\"markers\",\"name\":\"pay\",\"scene\":\"scene\",\"showlegend\":true,\"x\":[-0.26662859320640564],\"y\":[0.15937066078186035],\"z\":[0.031540647149086],\"type\":\"scatter3d\"},{\"hovertemplate\":\"color=girls<br>0=%{x}<br>1=%{y}<br>2=%{z}<extra></extra>\",\"legendgroup\":\"girls\",\"marker\":{\"color\":\"#FECB52\",\"symbol\":\"circle\"},\"mode\":\"markers\",\"name\":\"girls\",\"scene\":\"scene\",\"showlegend\":true,\"x\":[-0.3385186493396759],\"y\":[0.2525262236595154],\"z\":[0.011537984013557434],\"type\":\"scatter3d\"},{\"hovertemplate\":\"color=every<br>0=%{x}<br>1=%{y}<br>2=%{z}<extra></extra>\",\"legendgroup\":\"every\",\"marker\":{\"color\":\"#636efa\",\"symbol\":\"circle\"},\"mode\":\"markers\",\"name\":\"every\",\"scene\":\"scene\",\"showlegend\":true,\"x\":[0.31565940380096436],\"y\":[-0.014474023133516312],\"z\":[0.11677440255880356],\"type\":\"scatter3d\"},{\"hovertemplate\":\"color=nothing<br>0=%{x}<br>1=%{y}<br>2=%{z}<extra></extra>\",\"legendgroup\":\"nothing\",\"marker\":{\"color\":\"#EF553B\",\"symbol\":\"circle\"},\"mode\":\"markers\",\"name\":\"nothing\",\"scene\":\"scene\",\"showlegend\":true,\"x\":[0.6204608678817749],\"y\":[-0.18571844696998596],\"z\":[-0.07009449601173401],\"type\":\"scatter3d\"},{\"hovertemplate\":\"color=hope<br>0=%{x}<br>1=%{y}<br>2=%{z}<extra></extra>\",\"legendgroup\":\"hope\",\"marker\":{\"color\":\"#00cc96\",\"symbol\":\"circle\"},\"mode\":\"markers\",\"name\":\"hope\",\"scene\":\"scene\",\"showlegend\":true,\"x\":[0.4301777780056],\"y\":[0.012528445571660995],\"z\":[-0.11777888238430023],\"type\":\"scatter3d\"},{\"hovertemplate\":\"color=keep<br>0=%{x}<br>1=%{y}<br>2=%{z}<extra></extra>\",\"legendgroup\":\"keep\",\"marker\":{\"color\":\"#ab63fa\",\"symbol\":\"circle\"},\"mode\":\"markers\",\"name\":\"keep\",\"scene\":\"scene\",\"showlegend\":true,\"x\":[0.3700060248374939],\"y\":[-0.10157525539398193],\"z\":[-0.0028429992962628603],\"type\":\"scatter3d\"},{\"hovertemplate\":\"color=city<br>0=%{x}<br>1=%{y}<br>2=%{z}<extra></extra>\",\"legendgroup\":\"city\",\"marker\":{\"color\":\"#FFA15A\",\"symbol\":\"circle\"},\"mode\":\"markers\",\"name\":\"city\",\"scene\":\"scene\",\"showlegend\":true,\"x\":[0.24803361296653748],\"y\":[-0.12840893864631653],\"z\":[0.3877978026866913],\"type\":\"scatter3d\"},{\"hovertemplate\":\"color=stop<br>0=%{x}<br>1=%{y}<br>2=%{z}<extra></extra>\",\"legendgroup\":\"stop\",\"marker\":{\"color\":\"#19d3f3\",\"symbol\":\"circle\"},\"mode\":\"markers\",\"name\":\"stop\",\"scene\":\"scene\",\"showlegend\":true,\"x\":[0.4039612114429474],\"y\":[-0.17492301762104034],\"z\":[-0.11821627616882324],\"type\":\"scatter3d\"},{\"hovertemplate\":\"color=men<br>0=%{x}<br>1=%{y}<br>2=%{z}<extra></extra>\",\"legendgroup\":\"men\",\"marker\":{\"color\":\"#FF6692\",\"symbol\":\"circle\"},\"mode\":\"markers\",\"name\":\"men\",\"scene\":\"scene\",\"showlegend\":true,\"x\":[0.21603398025035858],\"y\":[-0.1186739131808281],\"z\":[0.33550891280174255],\"type\":\"scatter3d\"},{\"hovertemplate\":\"color=sun<br>0=%{x}<br>1=%{y}<br>2=%{z}<extra></extra>\",\"legendgroup\":\"sun\",\"marker\":{\"color\":\"#B6E880\",\"symbol\":\"circle\"},\"mode\":\"markers\",\"name\":\"sun\",\"scene\":\"scene\",\"showlegend\":true,\"x\":[-0.4764936566352844],\"y\":[0.4445441961288452],\"z\":[0.016957873478531837],\"type\":\"scatter3d\"},{\"hovertemplate\":\"color=eyes<br>0=%{x}<br>1=%{y}<br>2=%{z}<extra></extra>\",\"legendgroup\":\"eyes\",\"marker\":{\"color\":\"#FF97FF\",\"symbol\":\"circle\"},\"mode\":\"markers\",\"name\":\"eyes\",\"scene\":\"scene\",\"showlegend\":true,\"x\":[0.013799351640045643],\"y\":[-0.05577678233385086],\"z\":[0.3075336515903473],\"type\":\"scatter3d\"},{\"hovertemplate\":\"color=\\u00f3\\u00be<br>0=%{x}<br>1=%{y}<br>2=%{z}<extra></extra>\",\"legendgroup\":\"\\u00f3\\u00be\",\"marker\":{\"color\":\"#FECB52\",\"symbol\":\"circle\"},\"mode\":\"markers\",\"name\":\"\\u00f3\\u00be\",\"scene\":\"scene\",\"showlegend\":true,\"x\":[-0.24604874849319458],\"y\":[0.37804874777793884],\"z\":[-0.12951605021953583],\"type\":\"scatter3d\"},{\"hovertemplate\":\"color=show<br>0=%{x}<br>1=%{y}<br>2=%{z}<extra></extra>\",\"legendgroup\":\"show\",\"marker\":{\"color\":\"#636efa\",\"symbol\":\"circle\"},\"mode\":\"markers\",\"name\":\"show\",\"scene\":\"scene\",\"showlegend\":true,\"x\":[0.4363652467727661],\"y\":[-0.09464829415082932],\"z\":[0.1947728544473648],\"type\":\"scatter3d\"},{\"hovertemplate\":\"color=game<br>0=%{x}<br>1=%{y}<br>2=%{z}<extra></extra>\",\"legendgroup\":\"game\",\"marker\":{\"color\":\"#EF553B\",\"symbol\":\"circle\"},\"mode\":\"markers\",\"name\":\"game\",\"scene\":\"scene\",\"showlegend\":true,\"x\":[0.498473197221756],\"y\":[-0.23945815861225128],\"z\":[0.05474832281470299],\"type\":\"scatter3d\"},{\"hovertemplate\":\"color=found<br>0=%{x}<br>1=%{y}<br>2=%{z}<extra></extra>\",\"legendgroup\":\"found\",\"marker\":{\"color\":\"#00cc96\",\"symbol\":\"circle\"},\"mode\":\"markers\",\"name\":\"found\",\"scene\":\"scene\",\"showlegend\":true,\"x\":[0.2329440414905548],\"y\":[-0.026818668469786644],\"z\":[0.037656527012586594],\"type\":\"scatter3d\"},{\"hovertemplate\":\"color=help<br>0=%{x}<br>1=%{y}<br>2=%{z}<extra></extra>\",\"legendgroup\":\"help\",\"marker\":{\"color\":\"#ab63fa\",\"symbol\":\"circle\"},\"mode\":\"markers\",\"name\":\"help\",\"scene\":\"scene\",\"showlegend\":true,\"x\":[0.47270822525024414],\"y\":[-0.030701344832777977],\"z\":[-0.1313452273607254],\"type\":\"scatter3d\"},{\"hovertemplate\":\"color=feeling<br>0=%{x}<br>1=%{y}<br>2=%{z}<extra></extra>\",\"legendgroup\":\"feeling\",\"marker\":{\"color\":\"#FFA15A\",\"symbol\":\"circle\"},\"mode\":\"markers\",\"name\":\"feeling\",\"scene\":\"scene\",\"showlegend\":true,\"x\":[-0.010958985425531864],\"y\":[0.14070062339305878],\"z\":[-0.2498597949743271],\"type\":\"scatter3d\"},{\"hovertemplate\":\"color=until<br>0=%{x}<br>1=%{y}<br>2=%{z}<extra></extra>\",\"legendgroup\":\"until\",\"marker\":{\"color\":\"#19d3f3\",\"symbol\":\"circle\"},\"mode\":\"markers\",\"name\":\"until\",\"scene\":\"scene\",\"showlegend\":true,\"x\":[0.1851087212562561],\"y\":[0.059286490082740784],\"z\":[0.2892289459705353],\"type\":\"scatter3d\"},{\"hovertemplate\":\"color=bear<br>0=%{x}<br>1=%{y}<br>2=%{z}<extra></extra>\",\"legendgroup\":\"bear\",\"marker\":{\"color\":\"#FF6692\",\"symbol\":\"circle\"},\"mode\":\"markers\",\"name\":\"bear\",\"scene\":\"scene\",\"showlegend\":true,\"x\":[-0.06322651356458664],\"y\":[0.06022665277123451],\"z\":[0.13097405433654785],\"type\":\"scatter3d\"},{\"hovertemplate\":\"color=forex<br>0=%{x}<br>1=%{y}<br>2=%{z}<extra></extra>\",\"legendgroup\":\"forex\",\"marker\":{\"color\":\"#B6E880\",\"symbol\":\"circle\"},\"mode\":\"markers\",\"name\":\"forex\",\"scene\":\"scene\",\"showlegend\":true,\"x\":[-0.005069555714726448],\"y\":[0.2784293293952942],\"z\":[-0.048534806817770004],\"type\":\"scatter3d\"},{\"hovertemplate\":\"color=other<br>0=%{x}<br>1=%{y}<br>2=%{z}<extra></extra>\",\"legendgroup\":\"other\",\"marker\":{\"color\":\"#FF97FF\",\"symbol\":\"circle\"},\"mode\":\"markers\",\"name\":\"other\",\"scene\":\"scene\",\"showlegend\":true,\"x\":[0.5150091052055359],\"y\":[-0.17689916491508484],\"z\":[0.30686795711517334],\"type\":\"scatter3d\"},{\"hovertemplate\":\"color=climb<br>0=%{x}<br>1=%{y}<br>2=%{z}<extra></extra>\",\"legendgroup\":\"climb\",\"marker\":{\"color\":\"#FECB52\",\"symbol\":\"circle\"},\"mode\":\"markers\",\"name\":\"climb\",\"scene\":\"scene\",\"showlegend\":true,\"x\":[0.13036227226257324],\"y\":[-0.03485924378037453],\"z\":[0.0891110971570015],\"type\":\"scatter3d\"},{\"hovertemplate\":\"color=god<br>0=%{x}<br>1=%{y}<br>2=%{z}<extra></extra>\",\"legendgroup\":\"god\",\"marker\":{\"color\":\"#636efa\",\"symbol\":\"circle\"},\"mode\":\"markers\",\"name\":\"god\",\"scene\":\"scene\",\"showlegend\":true,\"x\":[0.23690156638622284],\"y\":[0.04867380112409592],\"z\":[-0.05993850156664848],\"type\":\"scatter3d\"},{\"hovertemplate\":\"color=getting<br>0=%{x}<br>1=%{y}<br>2=%{z}<extra></extra>\",\"legendgroup\":\"getting\",\"marker\":{\"color\":\"#EF553B\",\"symbol\":\"circle\"},\"mode\":\"markers\",\"name\":\"getting\",\"scene\":\"scene\",\"showlegend\":true,\"x\":[0.04271503537893295],\"y\":[0.01652437634766102],\"z\":[0.18989165127277374],\"type\":\"scatter3d\"},{\"hovertemplate\":\"color=any<br>0=%{x}<br>1=%{y}<br>2=%{z}<extra></extra>\",\"legendgroup\":\"any\",\"marker\":{\"color\":\"#00cc96\",\"symbol\":\"circle\"},\"mode\":\"markers\",\"name\":\"any\",\"scene\":\"scene\",\"showlegend\":true,\"x\":[0.5698096752166748],\"y\":[-0.19180120527744293],\"z\":[-0.006381615065038204],\"type\":\"scatter3d\"},{\"hovertemplate\":\"color=may<br>0=%{x}<br>1=%{y}<br>2=%{z}<extra></extra>\",\"legendgroup\":\"may\",\"marker\":{\"color\":\"#ab63fa\",\"symbol\":\"circle\"},\"mode\":\"markers\",\"name\":\"may\",\"scene\":\"scene\",\"showlegend\":true,\"x\":[0.06794444471597672],\"y\":[-0.05546005070209503],\"z\":[-0.012683665379881859],\"type\":\"scatter3d\"},{\"hovertemplate\":\"color=blessed<br>0=%{x}<br>1=%{y}<br>2=%{z}<extra></extra>\",\"legendgroup\":\"blessed\",\"marker\":{\"color\":\"#FFA15A\",\"symbol\":\"circle\"},\"mode\":\"markers\",\"name\":\"blessed\",\"scene\":\"scene\",\"showlegend\":true,\"x\":[-0.23682531714439392],\"y\":[0.282358318567276],\"z\":[-0.28429752588272095],\"type\":\"scatter3d\"},{\"hovertemplate\":\"color=hate<br>0=%{x}<br>1=%{y}<br>2=%{z}<extra></extra>\",\"legendgroup\":\"hate\",\"marker\":{\"color\":\"#19d3f3\",\"symbol\":\"circle\"},\"mode\":\"markers\",\"name\":\"hate\",\"scene\":\"scene\",\"showlegend\":true,\"x\":[0.4961656928062439],\"y\":[-0.2632114291191101],\"z\":[-0.12626464664936066],\"type\":\"scatter3d\"},{\"hovertemplate\":\"color=food<br>0=%{x}<br>1=%{y}<br>2=%{z}<extra></extra>\",\"legendgroup\":\"food\",\"marker\":{\"color\":\"#FF6692\",\"symbol\":\"circle\"},\"mode\":\"markers\",\"name\":\"food\",\"scene\":\"scene\",\"showlegend\":true,\"x\":[-0.25137948989868164],\"y\":[0.07898439466953278],\"z\":[-0.21024857461452484],\"type\":\"scatter3d\"},{\"hovertemplate\":\"color=friend<br>0=%{x}<br>1=%{y}<br>2=%{z}<extra></extra>\",\"legendgroup\":\"friend\",\"marker\":{\"color\":\"#B6E880\",\"symbol\":\"circle\"},\"mode\":\"markers\",\"name\":\"friend\",\"scene\":\"scene\",\"showlegend\":true,\"x\":[-0.17933416366577148],\"y\":[0.35076311230659485],\"z\":[-0.11650291085243225],\"type\":\"scatter3d\"},{\"hovertemplate\":\"color=news<br>0=%{x}<br>1=%{y}<br>2=%{z}<extra></extra>\",\"legendgroup\":\"news\",\"marker\":{\"color\":\"#FF97FF\",\"symbol\":\"circle\"},\"mode\":\"markers\",\"name\":\"news\",\"scene\":\"scene\",\"showlegend\":true,\"x\":[0.00807996466755867],\"y\":[-0.06187710911035538],\"z\":[0.0016225650906562805],\"type\":\"scatter3d\"},{\"hovertemplate\":\"color=peace<br>0=%{x}<br>1=%{y}<br>2=%{z}<extra></extra>\",\"legendgroup\":\"peace\",\"marker\":{\"color\":\"#FECB52\",\"symbol\":\"circle\"},\"mode\":\"markers\",\"name\":\"peace\",\"scene\":\"scene\",\"showlegend\":true,\"x\":[-0.2768257260322571],\"y\":[0.1526486724615097],\"z\":[-0.1747298389673233],\"type\":\"scatter3d\"},{\"hovertemplate\":\"color=two<br>0=%{x}<br>1=%{y}<br>2=%{z}<extra></extra>\",\"legendgroup\":\"two\",\"marker\":{\"color\":\"#636efa\",\"symbol\":\"circle\"},\"mode\":\"markers\",\"name\":\"two\",\"scene\":\"scene\",\"showlegend\":true,\"x\":[0.06404437124729156],\"y\":[-0.0025451327674090862],\"z\":[0.3268096148967743],\"type\":\"scatter3d\"},{\"hovertemplate\":\"color=yes<br>0=%{x}<br>1=%{y}<br>2=%{z}<extra></extra>\",\"legendgroup\":\"yes\",\"marker\":{\"color\":\"#EF553B\",\"symbol\":\"circle\"},\"mode\":\"markers\",\"name\":\"yes\",\"scene\":\"scene\",\"showlegend\":true,\"x\":[0.14838466048240662],\"y\":[-0.029604172334074974],\"z\":[-0.30754825472831726],\"type\":\"scatter3d\"},{\"hovertemplate\":\"color=someone<br>0=%{x}<br>1=%{y}<br>2=%{z}<extra></extra>\",\"legendgroup\":\"someone\",\"marker\":{\"color\":\"#00cc96\",\"symbol\":\"circle\"},\"mode\":\"markers\",\"name\":\"someone\",\"scene\":\"scene\",\"showlegend\":true,\"x\":[0.7318925261497498],\"y\":[-0.15735334157943726],\"z\":[-0.23744484782218933],\"type\":\"scatter3d\"},{\"hovertemplate\":\"color=sta<br>0=%{x}<br>1=%{y}<br>2=%{z}<extra></extra>\",\"legendgroup\":\"sta\",\"marker\":{\"color\":\"#ab63fa\",\"symbol\":\"circle\"},\"mode\":\"markers\",\"name\":\"sta\",\"scene\":\"scene\",\"showlegend\":true,\"x\":[0.18595737218856812],\"y\":[0.0864512026309967],\"z\":[0.16089709103107452],\"type\":\"scatter3d\"},{\"hovertemplate\":\"color=left<br>0=%{x}<br>1=%{y}<br>2=%{z}<extra></extra>\",\"legendgroup\":\"left\",\"marker\":{\"color\":\"#FFA15A\",\"symbol\":\"circle\"},\"mode\":\"markers\",\"name\":\"left\",\"scene\":\"scene\",\"showlegend\":true,\"x\":[0.2219870388507843],\"y\":[-0.13303829729557037],\"z\":[0.23827624320983887],\"type\":\"scatter3d\"},{\"hovertemplate\":\"color=enjoy<br>0=%{x}<br>1=%{y}<br>2=%{z}<extra></extra>\",\"legendgroup\":\"enjoy\",\"marker\":{\"color\":\"#19d3f3\",\"symbol\":\"circle\"},\"mode\":\"markers\",\"name\":\"enjoy\",\"scene\":\"scene\",\"showlegend\":true,\"x\":[-0.20748475193977356],\"y\":[0.25327417254447937],\"z\":[-0.18254373967647552],\"type\":\"scatter3d\"},{\"hovertemplate\":\"color=whatever<br>0=%{x}<br>1=%{y}<br>2=%{z}<extra></extra>\",\"legendgroup\":\"whatever\",\"marker\":{\"color\":\"#FF6692\",\"symbol\":\"circle\"},\"mode\":\"markers\",\"name\":\"whatever\",\"scene\":\"scene\",\"showlegend\":true,\"x\":[0.38107359409332275],\"y\":[-0.14017215371131897],\"z\":[-0.11977201700210571],\"type\":\"scatter3d\"},{\"hovertemplate\":\"color=own<br>0=%{x}<br>1=%{y}<br>2=%{z}<extra></extra>\",\"legendgroup\":\"own\",\"marker\":{\"color\":\"#B6E880\",\"symbol\":\"circle\"},\"mode\":\"markers\",\"name\":\"own\",\"scene\":\"scene\",\"showlegend\":true,\"x\":[0.43148869276046753],\"y\":[-0.2026701420545578],\"z\":[0.20940160751342773],\"type\":\"scatter3d\"},{\"hovertemplate\":\"color=hard<br>0=%{x}<br>1=%{y}<br>2=%{z}<extra></extra>\",\"legendgroup\":\"hard\",\"marker\":{\"color\":\"#FF97FF\",\"symbol\":\"circle\"},\"mode\":\"markers\",\"name\":\"hard\",\"scene\":\"scene\",\"showlegend\":true,\"x\":[0.3898594379425049],\"y\":[-0.17850491404533386],\"z\":[0.059215378016233444],\"type\":\"scatter3d\"},{\"hovertemplate\":\"color=coming<br>0=%{x}<br>1=%{y}<br>2=%{z}<extra></extra>\",\"legendgroup\":\"coming\",\"marker\":{\"color\":\"#FECB52\",\"symbol\":\"circle\"},\"mode\":\"markers\",\"name\":\"coming\",\"scene\":\"scene\",\"showlegend\":true,\"x\":[0.14678224921226501],\"y\":[0.062087129801511765],\"z\":[0.15777310729026794],\"type\":\"scatter3d\"},{\"hovertemplate\":\"color=th<br>0=%{x}<br>1=%{y}<br>2=%{z}<extra></extra>\",\"legendgroup\":\"th\",\"marker\":{\"color\":\"#636efa\",\"symbol\":\"circle\"},\"mode\":\"markers\",\"name\":\"th\",\"scene\":\"scene\",\"showlegend\":true,\"x\":[-0.2497522085905075],\"y\":[0.3019976019859314],\"z\":[0.27774566411972046],\"type\":\"scatter3d\"},{\"hovertemplate\":\"color=hair<br>0=%{x}<br>1=%{y}<br>2=%{z}<extra></extra>\",\"legendgroup\":\"hair\",\"marker\":{\"color\":\"#EF553B\",\"symbol\":\"circle\"},\"mode\":\"markers\",\"name\":\"hair\",\"scene\":\"scene\",\"showlegend\":true,\"x\":[-0.3980770707130432],\"y\":[0.2564570903778076],\"z\":[0.04589591175317764],\"type\":\"scatter3d\"},{\"hovertemplate\":\"color=better<br>0=%{x}<br>1=%{y}<br>2=%{z}<extra></extra>\",\"legendgroup\":\"better\",\"marker\":{\"color\":\"#00cc96\",\"symbol\":\"circle\"},\"mode\":\"markers\",\"name\":\"better\",\"scene\":\"scene\",\"showlegend\":true,\"x\":[0.5840655565261841],\"y\":[-0.16336631774902344],\"z\":[-0.013133421540260315],\"type\":\"scatter3d\"},{\"hovertemplate\":\"color=saturday<br>0=%{x}<br>1=%{y}<br>2=%{z}<extra></extra>\",\"legendgroup\":\"saturday\",\"marker\":{\"color\":\"#ab63fa\",\"symbol\":\"circle\"},\"mode\":\"markers\",\"name\":\"saturday\",\"scene\":\"scene\",\"showlegend\":true,\"x\":[-0.3612464964389801],\"y\":[0.32656997442245483],\"z\":[-0.09724456816911697],\"type\":\"scatter3d\"},{\"hovertemplate\":\"color=done<br>0=%{x}<br>1=%{y}<br>2=%{z}<extra></extra>\",\"legendgroup\":\"done\",\"marker\":{\"color\":\"#FFA15A\",\"symbol\":\"circle\"},\"mode\":\"markers\",\"name\":\"done\",\"scene\":\"scene\",\"showlegend\":true,\"x\":[0.3660585284233093],\"y\":[-0.07226303219795227],\"z\":[-0.0739804059267044],\"type\":\"scatter3d\"},{\"hovertemplate\":\"color=arya<br>0=%{x}<br>1=%{y}<br>2=%{z}<extra></extra>\",\"legendgroup\":\"arya\",\"marker\":{\"color\":\"#19d3f3\",\"symbol\":\"circle\"},\"mode\":\"markers\",\"name\":\"arya\",\"scene\":\"scene\",\"showlegend\":true,\"x\":[0.25845757126808167],\"y\":[-0.1721862554550171],\"z\":[0.0736818015575409],\"type\":\"scatter3d\"},{\"hovertemplate\":\"color=baby<br>0=%{x}<br>1=%{y}<br>2=%{z}<extra></extra>\",\"legendgroup\":\"baby\",\"marker\":{\"color\":\"#FF6692\",\"symbol\":\"circle\"},\"mode\":\"markers\",\"name\":\"baby\",\"scene\":\"scene\",\"showlegend\":true,\"x\":[-0.2041897028684616],\"y\":[0.26885750889778137],\"z\":[-0.16610068082809448],\"type\":\"scatter3d\"},{\"hovertemplate\":\"color=dog<br>0=%{x}<br>1=%{y}<br>2=%{z}<extra></extra>\",\"legendgroup\":\"dog\",\"marker\":{\"color\":\"#B6E880\",\"symbol\":\"circle\"},\"mode\":\"markers\",\"name\":\"dog\",\"scene\":\"scene\",\"showlegend\":true,\"x\":[-0.3671504557132721],\"y\":[0.2660892903804779],\"z\":[-0.19978302717208862],\"type\":\"scatter3d\"},{\"hovertemplate\":\"color=thought<br>0=%{x}<br>1=%{y}<br>2=%{z}<extra></extra>\",\"legendgroup\":\"thought\",\"marker\":{\"color\":\"#FF97FF\",\"symbol\":\"circle\"},\"mode\":\"markers\",\"name\":\"thought\",\"scene\":\"scene\",\"showlegend\":true,\"x\":[0.433773934841156],\"y\":[-0.1458122879266739],\"z\":[-0.12014082074165344],\"type\":\"scatter3d\"},{\"hovertemplate\":\"color=hand<br>0=%{x}<br>1=%{y}<br>2=%{z}<extra></extra>\",\"legendgroup\":\"hand\",\"marker\":{\"color\":\"#FECB52\",\"symbol\":\"circle\"},\"mode\":\"markers\",\"name\":\"hand\",\"scene\":\"scene\",\"showlegend\":true,\"x\":[0.10465816408395767],\"y\":[-0.03837883844971657],\"z\":[0.4825611114501953],\"type\":\"scatter3d\"},{\"hovertemplate\":\"color=excited<br>0=%{x}<br>1=%{y}<br>2=%{z}<extra></extra>\",\"legendgroup\":\"excited\",\"marker\":{\"color\":\"#636efa\",\"symbol\":\"circle\"},\"mode\":\"markers\",\"name\":\"excited\",\"scene\":\"scene\",\"showlegend\":true,\"x\":[0.11787772923707962],\"y\":[0.039885859936475754],\"z\":[-0.029316086322069168],\"type\":\"scatter3d\"},{\"hovertemplate\":\"color=something<br>0=%{x}<br>1=%{y}<br>2=%{z}<extra></extra>\",\"legendgroup\":\"something\",\"marker\":{\"color\":\"#EF553B\",\"symbol\":\"circle\"},\"mode\":\"markers\",\"name\":\"something\",\"scene\":\"scene\",\"showlegend\":true,\"x\":[0.7372724413871765],\"y\":[-0.16321493685245514],\"z\":[-0.04122842103242874],\"type\":\"scatter3d\"},{\"hovertemplate\":\"color=yet<br>0=%{x}<br>1=%{y}<br>2=%{z}<extra></extra>\",\"legendgroup\":\"yet\",\"marker\":{\"color\":\"#00cc96\",\"symbol\":\"circle\"},\"mode\":\"markers\",\"name\":\"yet\",\"scene\":\"scene\",\"showlegend\":true,\"x\":[0.4085218012332916],\"y\":[-0.19583529233932495],\"z\":[0.09476181864738464],\"type\":\"scatter3d\"},{\"hovertemplate\":\"color=believe<br>0=%{x}<br>1=%{y}<br>2=%{z}<extra></extra>\",\"legendgroup\":\"believe\",\"marker\":{\"color\":\"#ab63fa\",\"symbol\":\"circle\"},\"mode\":\"markers\",\"name\":\"believe\",\"scene\":\"scene\",\"showlegend\":true,\"x\":[0.5299372673034668],\"y\":[-0.08501186221837997],\"z\":[-0.09501347690820694],\"type\":\"scatter3d\"},{\"hovertemplate\":\"color=thing<br>0=%{x}<br>1=%{y}<br>2=%{z}<extra></extra>\",\"legendgroup\":\"thing\",\"marker\":{\"color\":\"#FFA15A\",\"symbol\":\"circle\"},\"mode\":\"markers\",\"name\":\"thing\",\"scene\":\"scene\",\"showlegend\":true,\"x\":[0.5709248185157776],\"y\":[-0.038300059735774994],\"z\":[-0.027160102501511574],\"type\":\"scatter3d\"},{\"hovertemplate\":\"color=page<br>0=%{x}<br>1=%{y}<br>2=%{z}<extra></extra>\",\"legendgroup\":\"page\",\"marker\":{\"color\":\"#19d3f3\",\"symbol\":\"circle\"},\"mode\":\"markers\",\"name\":\"page\",\"scene\":\"scene\",\"showlegend\":true,\"x\":[0.14874252676963806],\"y\":[-0.19126565754413605],\"z\":[0.059166181832551956],\"type\":\"scatter3d\"},{\"hovertemplate\":\"color=must<br>0=%{x}<br>1=%{y}<br>2=%{z}<extra></extra>\",\"legendgroup\":\"must\",\"marker\":{\"color\":\"#FF6692\",\"symbol\":\"circle\"},\"mode\":\"markers\",\"name\":\"must\",\"scene\":\"scene\",\"showlegend\":true,\"x\":[0.5452130436897278],\"y\":[-0.18575502932071686],\"z\":[-0.13305939733982086],\"type\":\"scatter3d\"},{\"hovertemplate\":\"color=soon<br>0=%{x}<br>1=%{y}<br>2=%{z}<extra></extra>\",\"legendgroup\":\"soon\",\"marker\":{\"color\":\"#B6E880\",\"symbol\":\"circle\"},\"mode\":\"markers\",\"name\":\"soon\",\"scene\":\"scene\",\"showlegend\":true,\"x\":[0.20379133522510529],\"y\":[-0.08429321646690369],\"z\":[0.1309756636619568],\"type\":\"scatter3d\"},{\"hovertemplate\":\"color=instagood<br>0=%{x}<br>1=%{y}<br>2=%{z}<extra></extra>\",\"legendgroup\":\"instagood\",\"marker\":{\"color\":\"#FF97FF\",\"symbol\":\"circle\"},\"mode\":\"markers\",\"name\":\"instagood\",\"scene\":\"scene\",\"showlegend\":true,\"x\":[-0.4236806333065033],\"y\":[0.3703837990760803],\"z\":[-0.21576601266860962],\"type\":\"scatter3d\"},{\"hovertemplate\":\"color=funny<br>0=%{x}<br>1=%{y}<br>2=%{z}<extra></extra>\",\"legendgroup\":\"funny\",\"marker\":{\"color\":\"#FECB52\",\"symbol\":\"circle\"},\"mode\":\"markers\",\"name\":\"funny\",\"scene\":\"scene\",\"showlegend\":true,\"x\":[-0.20655645430088043],\"y\":[0.11237882822751999],\"z\":[-0.16074784100055695],\"type\":\"scatter3d\"},{\"hovertemplate\":\"color=angry<br>0=%{x}<br>1=%{y}<br>2=%{z}<extra></extra>\",\"legendgroup\":\"angry\",\"marker\":{\"color\":\"#636efa\",\"symbol\":\"circle\"},\"mode\":\"markers\",\"name\":\"angry\",\"scene\":\"scene\",\"showlegend\":true,\"x\":[-0.1207471415400505],\"y\":[-0.02510780096054077],\"z\":[-0.04352293536067009],\"type\":\"scatter3d\"},{\"hovertemplate\":\"color=big<br>0=%{x}<br>1=%{y}<br>2=%{z}<extra></extra>\",\"legendgroup\":\"big\",\"marker\":{\"color\":\"#EF553B\",\"symbol\":\"circle\"},\"mode\":\"markers\",\"name\":\"big\",\"scene\":\"scene\",\"showlegend\":true,\"x\":[-0.16546544432640076],\"y\":[0.019371047616004944],\"z\":[0.06678460538387299],\"type\":\"scatter3d\"},{\"hovertemplate\":\"color=polar<br>0=%{x}<br>1=%{y}<br>2=%{z}<extra></extra>\",\"legendgroup\":\"polar\",\"marker\":{\"color\":\"#00cc96\",\"symbol\":\"circle\"},\"mode\":\"markers\",\"name\":\"polar\",\"scene\":\"scene\",\"showlegend\":true,\"x\":[-0.12879182398319244],\"y\":[0.04408300295472145],\"z\":[0.12895654141902924],\"type\":\"scatter3d\"},{\"hovertemplate\":\"color=place<br>0=%{x}<br>1=%{y}<br>2=%{z}<extra></extra>\",\"legendgroup\":\"place\",\"marker\":{\"color\":\"#ab63fa\",\"symbol\":\"circle\"},\"mode\":\"markers\",\"name\":\"place\",\"scene\":\"scene\",\"showlegend\":true,\"x\":[0.1945350021123886],\"y\":[-0.03409164771437645],\"z\":[0.1992657631635666],\"type\":\"scatter3d\"},{\"hovertemplate\":\"color=brother<br>0=%{x}<br>1=%{y}<br>2=%{z}<extra></extra>\",\"legendgroup\":\"brother\",\"marker\":{\"color\":\"#FFA15A\",\"symbol\":\"circle\"},\"mode\":\"markers\",\"name\":\"brother\",\"scene\":\"scene\",\"showlegend\":true,\"x\":[0.27018308639526367],\"y\":[-0.08167742937803268],\"z\":[0.06212286278605461],\"type\":\"scatter3d\"},{\"hovertemplate\":\"color=looked<br>0=%{x}<br>1=%{y}<br>2=%{z}<extra></extra>\",\"legendgroup\":\"looked\",\"marker\":{\"color\":\"#19d3f3\",\"symbol\":\"circle\"},\"mode\":\"markers\",\"name\":\"looked\",\"scene\":\"scene\",\"showlegend\":true,\"x\":[0.12165846675634384],\"y\":[-0.08015869557857513],\"z\":[0.20912042260169983],\"type\":\"scatter3d\"},{\"hovertemplate\":\"color=head<br>0=%{x}<br>1=%{y}<br>2=%{z}<extra></extra>\",\"legendgroup\":\"head\",\"marker\":{\"color\":\"#FF6692\",\"symbol\":\"circle\"},\"mode\":\"markers\",\"name\":\"head\",\"scene\":\"scene\",\"showlegend\":true,\"x\":[0.4439806342124939],\"y\":[-0.10777793824672699],\"z\":[0.28524139523506165],\"type\":\"scatter3d\"},{\"hovertemplate\":\"color=through<br>0=%{x}<br>1=%{y}<br>2=%{z}<extra></extra>\",\"legendgroup\":\"through\",\"marker\":{\"color\":\"#B6E880\",\"symbol\":\"circle\"},\"mode\":\"markers\",\"name\":\"through\",\"scene\":\"scene\",\"showlegend\":true,\"x\":[0.04193021357059479],\"y\":[-0.14564131200313568],\"z\":[0.2730277478694916],\"type\":\"scatter3d\"},{\"hovertemplate\":\"color=end<br>0=%{x}<br>1=%{y}<br>2=%{z}<extra></extra>\",\"legendgroup\":\"end\",\"marker\":{\"color\":\"#FF97FF\",\"symbol\":\"circle\"},\"mode\":\"markers\",\"name\":\"end\",\"scene\":\"scene\",\"showlegend\":true,\"x\":[0.2752324044704437],\"y\":[-0.040192410349845886],\"z\":[0.35971975326538086],\"type\":\"scatter3d\"},{\"hovertemplate\":\"color=true<br>0=%{x}<br>1=%{y}<br>2=%{z}<extra></extra>\",\"legendgroup\":\"true\",\"marker\":{\"color\":\"#FECB52\",\"symbol\":\"circle\"},\"mode\":\"markers\",\"name\":\"true\",\"scene\":\"scene\",\"showlegend\":true,\"x\":[0.33017608523368835],\"y\":[-0.15273699164390564],\"z\":[-0.1801789253950119],\"type\":\"scatter3d\"},{\"hovertemplate\":\"color=told<br>0=%{x}<br>1=%{y}<br>2=%{z}<extra></extra>\",\"legendgroup\":\"told\",\"marker\":{\"color\":\"#636efa\",\"symbol\":\"circle\"},\"mode\":\"markers\",\"name\":\"told\",\"scene\":\"scene\",\"showlegend\":true,\"x\":[0.46281519532203674],\"y\":[-0.15560604631900787],\"z\":[-0.08538319915533066],\"type\":\"scatter3d\"},{\"hovertemplate\":\"color=please<br>0=%{x}<br>1=%{y}<br>2=%{z}<extra></extra>\",\"legendgroup\":\"please\",\"marker\":{\"color\":\"#EF553B\",\"symbol\":\"circle\"},\"mode\":\"markers\",\"name\":\"please\",\"scene\":\"scene\",\"showlegend\":true,\"x\":[0.2438431829214096],\"y\":[-0.19672973453998566],\"z\":[-0.2091647833585739],\"type\":\"scatter3d\"},{\"hovertemplate\":\"color=lost<br>0=%{x}<br>1=%{y}<br>2=%{z}<extra></extra>\",\"legendgroup\":\"lost\",\"marker\":{\"color\":\"#00cc96\",\"symbol\":\"circle\"},\"mode\":\"markers\",\"name\":\"lost\",\"scene\":\"scene\",\"showlegend\":true,\"x\":[0.16745233535766602],\"y\":[-0.06381282955408096],\"z\":[0.27968138456344604],\"type\":\"scatter3d\"},{\"hovertemplate\":\"color=lol<br>0=%{x}<br>1=%{y}<br>2=%{z}<extra></extra>\",\"legendgroup\":\"lol\",\"marker\":{\"color\":\"#ab63fa\",\"symbol\":\"circle\"},\"mode\":\"markers\",\"name\":\"lol\",\"scene\":\"scene\",\"showlegend\":true,\"x\":[-0.015217705629765987],\"y\":[-0.04748270660638809],\"z\":[-0.19045132398605347],\"type\":\"scatter3d\"},{\"hovertemplate\":\"color=those<br>0=%{x}<br>1=%{y}<br>2=%{z}<extra></extra>\",\"legendgroup\":\"those\",\"marker\":{\"color\":\"#FFA15A\",\"symbol\":\"circle\"},\"mode\":\"markers\",\"name\":\"those\",\"scene\":\"scene\",\"showlegend\":true,\"x\":[0.3263084292411804],\"y\":[-0.10279035568237305],\"z\":[0.2894461154937744],\"type\":\"scatter3d\"},{\"hovertemplate\":\"color=having<br>0=%{x}<br>1=%{y}<br>2=%{z}<extra></extra>\",\"legendgroup\":\"having\",\"marker\":{\"color\":\"#19d3f3\",\"symbol\":\"circle\"},\"mode\":\"markers\",\"name\":\"having\",\"scene\":\"scene\",\"showlegend\":true,\"x\":[-0.04075559228658676],\"y\":[0.09561323374509811],\"z\":[-0.11595258116722107],\"type\":\"scatter3d\"},{\"hovertemplate\":\"color=kids<br>0=%{x}<br>1=%{y}<br>2=%{z}<extra></extra>\",\"legendgroup\":\"kids\",\"marker\":{\"color\":\"#FF6692\",\"symbol\":\"circle\"},\"mode\":\"markers\",\"name\":\"kids\",\"scene\":\"scene\",\"showlegend\":true,\"x\":[-0.03313995152711868],\"y\":[0.046600501984357834],\"z\":[0.05854567140340805],\"type\":\"scatter3d\"},{\"hovertemplate\":\"color=nice<br>0=%{x}<br>1=%{y}<br>2=%{z}<extra></extra>\",\"legendgroup\":\"nice\",\"marker\":{\"color\":\"#B6E880\",\"symbol\":\"circle\"},\"mode\":\"markers\",\"name\":\"nice\",\"scene\":\"scene\",\"showlegend\":true,\"x\":[-0.17957158386707306],\"y\":[0.14718864858150482],\"z\":[-0.12731869518756866],\"type\":\"scatter3d\"},{\"hovertemplate\":\"color=won<br>0=%{x}<br>1=%{y}<br>2=%{z}<extra></extra>\",\"legendgroup\":\"won\",\"marker\":{\"color\":\"#FF97FF\",\"symbol\":\"circle\"},\"mode\":\"markers\",\"name\":\"won\",\"scene\":\"scene\",\"showlegend\":true,\"x\":[0.5372819304466248],\"y\":[-0.22647492587566376],\"z\":[-0.09605863690376282],\"type\":\"scatter3d\"},{\"hovertemplate\":\"color=came<br>0=%{x}<br>1=%{y}<br>2=%{z}<extra></extra>\",\"legendgroup\":\"came\",\"marker\":{\"color\":\"#FECB52\",\"symbol\":\"circle\"},\"mode\":\"markers\",\"name\":\"came\",\"scene\":\"scene\",\"showlegend\":true,\"x\":[0.0949389785528183],\"y\":[-0.050872210413217545],\"z\":[0.2980371415615082],\"type\":\"scatter3d\"}],                        {\"template\":{\"data\":{\"histogram2dcontour\":[{\"type\":\"histogram2dcontour\",\"colorbar\":{\"outlinewidth\":0,\"ticks\":\"\"},\"colorscale\":[[0.0,\"#0d0887\"],[0.1111111111111111,\"#46039f\"],[0.2222222222222222,\"#7201a8\"],[0.3333333333333333,\"#9c179e\"],[0.4444444444444444,\"#bd3786\"],[0.5555555555555556,\"#d8576b\"],[0.6666666666666666,\"#ed7953\"],[0.7777777777777778,\"#fb9f3a\"],[0.8888888888888888,\"#fdca26\"],[1.0,\"#f0f921\"]]}],\"choropleth\":[{\"type\":\"choropleth\",\"colorbar\":{\"outlinewidth\":0,\"ticks\":\"\"}}],\"histogram2d\":[{\"type\":\"histogram2d\",\"colorbar\":{\"outlinewidth\":0,\"ticks\":\"\"},\"colorscale\":[[0.0,\"#0d0887\"],[0.1111111111111111,\"#46039f\"],[0.2222222222222222,\"#7201a8\"],[0.3333333333333333,\"#9c179e\"],[0.4444444444444444,\"#bd3786\"],[0.5555555555555556,\"#d8576b\"],[0.6666666666666666,\"#ed7953\"],[0.7777777777777778,\"#fb9f3a\"],[0.8888888888888888,\"#fdca26\"],[1.0,\"#f0f921\"]]}],\"heatmap\":[{\"type\":\"heatmap\",\"colorbar\":{\"outlinewidth\":0,\"ticks\":\"\"},\"colorscale\":[[0.0,\"#0d0887\"],[0.1111111111111111,\"#46039f\"],[0.2222222222222222,\"#7201a8\"],[0.3333333333333333,\"#9c179e\"],[0.4444444444444444,\"#bd3786\"],[0.5555555555555556,\"#d8576b\"],[0.6666666666666666,\"#ed7953\"],[0.7777777777777778,\"#fb9f3a\"],[0.8888888888888888,\"#fdca26\"],[1.0,\"#f0f921\"]]}],\"heatmapgl\":[{\"type\":\"heatmapgl\",\"colorbar\":{\"outlinewidth\":0,\"ticks\":\"\"},\"colorscale\":[[0.0,\"#0d0887\"],[0.1111111111111111,\"#46039f\"],[0.2222222222222222,\"#7201a8\"],[0.3333333333333333,\"#9c179e\"],[0.4444444444444444,\"#bd3786\"],[0.5555555555555556,\"#d8576b\"],[0.6666666666666666,\"#ed7953\"],[0.7777777777777778,\"#fb9f3a\"],[0.8888888888888888,\"#fdca26\"],[1.0,\"#f0f921\"]]}],\"contourcarpet\":[{\"type\":\"contourcarpet\",\"colorbar\":{\"outlinewidth\":0,\"ticks\":\"\"}}],\"contour\":[{\"type\":\"contour\",\"colorbar\":{\"outlinewidth\":0,\"ticks\":\"\"},\"colorscale\":[[0.0,\"#0d0887\"],[0.1111111111111111,\"#46039f\"],[0.2222222222222222,\"#7201a8\"],[0.3333333333333333,\"#9c179e\"],[0.4444444444444444,\"#bd3786\"],[0.5555555555555556,\"#d8576b\"],[0.6666666666666666,\"#ed7953\"],[0.7777777777777778,\"#fb9f3a\"],[0.8888888888888888,\"#fdca26\"],[1.0,\"#f0f921\"]]}],\"surface\":[{\"type\":\"surface\",\"colorbar\":{\"outlinewidth\":0,\"ticks\":\"\"},\"colorscale\":[[0.0,\"#0d0887\"],[0.1111111111111111,\"#46039f\"],[0.2222222222222222,\"#7201a8\"],[0.3333333333333333,\"#9c179e\"],[0.4444444444444444,\"#bd3786\"],[0.5555555555555556,\"#d8576b\"],[0.6666666666666666,\"#ed7953\"],[0.7777777777777778,\"#fb9f3a\"],[0.8888888888888888,\"#fdca26\"],[1.0,\"#f0f921\"]]}],\"mesh3d\":[{\"type\":\"mesh3d\",\"colorbar\":{\"outlinewidth\":0,\"ticks\":\"\"}}],\"scatter\":[{\"fillpattern\":{\"fillmode\":\"overlay\",\"size\":10,\"solidity\":0.2},\"type\":\"scatter\"}],\"parcoords\":[{\"type\":\"parcoords\",\"line\":{\"colorbar\":{\"outlinewidth\":0,\"ticks\":\"\"}}}],\"scatterpolargl\":[{\"type\":\"scatterpolargl\",\"marker\":{\"colorbar\":{\"outlinewidth\":0,\"ticks\":\"\"}}}],\"bar\":[{\"error_x\":{\"color\":\"#2a3f5f\"},\"error_y\":{\"color\":\"#2a3f5f\"},\"marker\":{\"line\":{\"color\":\"#E5ECF6\",\"width\":0.5},\"pattern\":{\"fillmode\":\"overlay\",\"size\":10,\"solidity\":0.2}},\"type\":\"bar\"}],\"scattergeo\":[{\"type\":\"scattergeo\",\"marker\":{\"colorbar\":{\"outlinewidth\":0,\"ticks\":\"\"}}}],\"scatterpolar\":[{\"type\":\"scatterpolar\",\"marker\":{\"colorbar\":{\"outlinewidth\":0,\"ticks\":\"\"}}}],\"histogram\":[{\"marker\":{\"pattern\":{\"fillmode\":\"overlay\",\"size\":10,\"solidity\":0.2}},\"type\":\"histogram\"}],\"scattergl\":[{\"type\":\"scattergl\",\"marker\":{\"colorbar\":{\"outlinewidth\":0,\"ticks\":\"\"}}}],\"scatter3d\":[{\"type\":\"scatter3d\",\"line\":{\"colorbar\":{\"outlinewidth\":0,\"ticks\":\"\"}},\"marker\":{\"colorbar\":{\"outlinewidth\":0,\"ticks\":\"\"}}}],\"scattermapbox\":[{\"type\":\"scattermapbox\",\"marker\":{\"colorbar\":{\"outlinewidth\":0,\"ticks\":\"\"}}}],\"scatterternary\":[{\"type\":\"scatterternary\",\"marker\":{\"colorbar\":{\"outlinewidth\":0,\"ticks\":\"\"}}}],\"scattercarpet\":[{\"type\":\"scattercarpet\",\"marker\":{\"colorbar\":{\"outlinewidth\":0,\"ticks\":\"\"}}}],\"carpet\":[{\"aaxis\":{\"endlinecolor\":\"#2a3f5f\",\"gridcolor\":\"white\",\"linecolor\":\"white\",\"minorgridcolor\":\"white\",\"startlinecolor\":\"#2a3f5f\"},\"baxis\":{\"endlinecolor\":\"#2a3f5f\",\"gridcolor\":\"white\",\"linecolor\":\"white\",\"minorgridcolor\":\"white\",\"startlinecolor\":\"#2a3f5f\"},\"type\":\"carpet\"}],\"table\":[{\"cells\":{\"fill\":{\"color\":\"#EBF0F8\"},\"line\":{\"color\":\"white\"}},\"header\":{\"fill\":{\"color\":\"#C8D4E3\"},\"line\":{\"color\":\"white\"}},\"type\":\"table\"}],\"barpolar\":[{\"marker\":{\"line\":{\"color\":\"#E5ECF6\",\"width\":0.5},\"pattern\":{\"fillmode\":\"overlay\",\"size\":10,\"solidity\":0.2}},\"type\":\"barpolar\"}],\"pie\":[{\"automargin\":true,\"type\":\"pie\"}]},\"layout\":{\"autotypenumbers\":\"strict\",\"colorway\":[\"#636efa\",\"#EF553B\",\"#00cc96\",\"#ab63fa\",\"#FFA15A\",\"#19d3f3\",\"#FF6692\",\"#B6E880\",\"#FF97FF\",\"#FECB52\"],\"font\":{\"color\":\"#2a3f5f\"},\"hovermode\":\"closest\",\"hoverlabel\":{\"align\":\"left\"},\"paper_bgcolor\":\"white\",\"plot_bgcolor\":\"#E5ECF6\",\"polar\":{\"bgcolor\":\"#E5ECF6\",\"angularaxis\":{\"gridcolor\":\"white\",\"linecolor\":\"white\",\"ticks\":\"\"},\"radialaxis\":{\"gridcolor\":\"white\",\"linecolor\":\"white\",\"ticks\":\"\"}},\"ternary\":{\"bgcolor\":\"#E5ECF6\",\"aaxis\":{\"gridcolor\":\"white\",\"linecolor\":\"white\",\"ticks\":\"\"},\"baxis\":{\"gridcolor\":\"white\",\"linecolor\":\"white\",\"ticks\":\"\"},\"caxis\":{\"gridcolor\":\"white\",\"linecolor\":\"white\",\"ticks\":\"\"}},\"coloraxis\":{\"colorbar\":{\"outlinewidth\":0,\"ticks\":\"\"}},\"colorscale\":{\"sequential\":[[0.0,\"#0d0887\"],[0.1111111111111111,\"#46039f\"],[0.2222222222222222,\"#7201a8\"],[0.3333333333333333,\"#9c179e\"],[0.4444444444444444,\"#bd3786\"],[0.5555555555555556,\"#d8576b\"],[0.6666666666666666,\"#ed7953\"],[0.7777777777777778,\"#fb9f3a\"],[0.8888888888888888,\"#fdca26\"],[1.0,\"#f0f921\"]],\"sequentialminus\":[[0.0,\"#0d0887\"],[0.1111111111111111,\"#46039f\"],[0.2222222222222222,\"#7201a8\"],[0.3333333333333333,\"#9c179e\"],[0.4444444444444444,\"#bd3786\"],[0.5555555555555556,\"#d8576b\"],[0.6666666666666666,\"#ed7953\"],[0.7777777777777778,\"#fb9f3a\"],[0.8888888888888888,\"#fdca26\"],[1.0,\"#f0f921\"]],\"diverging\":[[0,\"#8e0152\"],[0.1,\"#c51b7d\"],[0.2,\"#de77ae\"],[0.3,\"#f1b6da\"],[0.4,\"#fde0ef\"],[0.5,\"#f7f7f7\"],[0.6,\"#e6f5d0\"],[0.7,\"#b8e186\"],[0.8,\"#7fbc41\"],[0.9,\"#4d9221\"],[1,\"#276419\"]]},\"xaxis\":{\"gridcolor\":\"white\",\"linecolor\":\"white\",\"ticks\":\"\",\"title\":{\"standoff\":15},\"zerolinecolor\":\"white\",\"automargin\":true,\"zerolinewidth\":2},\"yaxis\":{\"gridcolor\":\"white\",\"linecolor\":\"white\",\"ticks\":\"\",\"title\":{\"standoff\":15},\"zerolinecolor\":\"white\",\"automargin\":true,\"zerolinewidth\":2},\"scene\":{\"xaxis\":{\"backgroundcolor\":\"#E5ECF6\",\"gridcolor\":\"white\",\"linecolor\":\"white\",\"showbackground\":true,\"ticks\":\"\",\"zerolinecolor\":\"white\",\"gridwidth\":2},\"yaxis\":{\"backgroundcolor\":\"#E5ECF6\",\"gridcolor\":\"white\",\"linecolor\":\"white\",\"showbackground\":true,\"ticks\":\"\",\"zerolinecolor\":\"white\",\"gridwidth\":2},\"zaxis\":{\"backgroundcolor\":\"#E5ECF6\",\"gridcolor\":\"white\",\"linecolor\":\"white\",\"showbackground\":true,\"ticks\":\"\",\"zerolinecolor\":\"white\",\"gridwidth\":2}},\"shapedefaults\":{\"line\":{\"color\":\"#2a3f5f\"}},\"annotationdefaults\":{\"arrowcolor\":\"#2a3f5f\",\"arrowhead\":0,\"arrowwidth\":1},\"geo\":{\"bgcolor\":\"white\",\"landcolor\":\"#E5ECF6\",\"subunitcolor\":\"white\",\"showland\":true,\"showlakes\":true,\"lakecolor\":\"white\"},\"title\":{\"x\":0.05},\"mapbox\":{\"style\":\"light\"}}},\"scene\":{\"domain\":{\"x\":[0.0,1.0],\"y\":[0.0,1.0]},\"xaxis\":{\"title\":{\"text\":\"0\"}},\"yaxis\":{\"title\":{\"text\":\"1\"}},\"zaxis\":{\"title\":{\"text\":\"2\"}}},\"legend\":{\"title\":{\"text\":\"color\"},\"tracegroupgap\":0},\"margin\":{\"t\":60}},                        {\"responsive\": true}                    ).then(function(){\n",
              "                            \n",
              "var gd = document.getElementById('5ca37eee-5b61-4c39-b016-d8720a1cdf8e');\n",
              "var x = new MutationObserver(function (mutations, observer) {{\n",
              "        var display = window.getComputedStyle(gd).display;\n",
              "        if (!display || display === 'none') {{\n",
              "            console.log([gd, 'removed!']);\n",
              "            Plotly.purge(gd);\n",
              "            observer.disconnect();\n",
              "        }}\n",
              "}});\n",
              "\n",
              "// Listen for the removal of the full notebook cells\n",
              "var notebookContainer = gd.closest('#notebook-container');\n",
              "if (notebookContainer) {{\n",
              "    x.observe(notebookContainer, {childList: true});\n",
              "}}\n",
              "\n",
              "// Listen for the clearing of the current output cell\n",
              "var outputEl = gd.closest('.output');\n",
              "if (outputEl) {{\n",
              "    x.observe(outputEl, {childList: true});\n",
              "}}\n",
              "\n",
              "                        })                };                            </script>        </div>\n",
              "</body>\n",
              "</html>"
            ]
          },
          "metadata": {}
        }
      ],
      "source": [
        "import plotly.express as px\n",
        "fig = px.scatter_3d(X[200:300],x=0,y=1,z=2, color=y[200:300])\n",
        "fig.show()"
      ]
    },
    {
      "cell_type": "code",
      "execution_count": null,
      "metadata": {
        "id": "Wag7ZHA0Dkui"
      },
      "outputs": [],
      "source": []
    }
  ],
  "metadata": {
    "colab": {
      "collapsed_sections": [
        "q_9w0BPMyuL4",
        "P53EmPynyuL5",
        "0n2YUwi1yuL-",
        "tGd8-mdVyuMA",
        "n3sOgkIoyuMB",
        "CXNYTNgYyuMI",
        "xdPjrowYyuMb",
        "U8dpWgzryuMb",
        "K-ye2OG2yuMe",
        "cFklgTn9yuMi",
        "0YarWzEPyuMs"
      ],
      "provenance": [],
      "include_colab_link": true
    },
    "kernelspec": {
      "display_name": "Python 3 (ipykernel)",
      "language": "python",
      "name": "python3"
    },
    "language_info": {
      "codemirror_mode": {
        "name": "ipython",
        "version": 3
      },
      "file_extension": ".py",
      "mimetype": "text/x-python",
      "name": "python",
      "nbconvert_exporter": "python",
      "pygments_lexer": "ipython3",
      "version": "3.9.12"
    }
  },
  "nbformat": 4,
  "nbformat_minor": 0
}